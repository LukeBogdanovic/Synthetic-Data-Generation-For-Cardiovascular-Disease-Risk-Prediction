{
 "cells": [
  {
   "cell_type": "markdown",
   "metadata": {},
   "source": [
    "# Data Augmentation"
   ]
  },
  {
   "cell_type": "code",
   "execution_count": 3,
   "metadata": {},
   "outputs": [],
   "source": [
    "from imblearn.over_sampling import SMOTEN, ADASYN\n",
    "from sklearn.preprocessing import StandardScaler, OrdinalEncoder\n",
    "import pandas as pd\n",
    "import numpy as np\n",
    "import matplotlib.pyplot as plt\n",
    "\n",
    "%matplotlib inline"
   ]
  },
  {
   "cell_type": "code",
   "execution_count": 5,
   "metadata": {},
   "outputs": [],
   "source": [
    "file_path = \"../data/CRFs.csv\"\n",
    "df = pd.read_csv(file_path)\n",
    "df = df.replace(\"n/a\", np.nan).dropna()"
   ]
  },
  {
   "cell_type": "code",
   "execution_count": 6,
   "metadata": {},
   "outputs": [],
   "source": [
    "df['Gender'] = df['Gender'].str.upper()"
   ]
  },
  {
   "cell_type": "code",
   "execution_count": 7,
   "metadata": {},
   "outputs": [],
   "source": [
    "continuous_cols = ['Age','Weight','Height','SBP','DBP']\n",
    "categorical_cols = ['Smoker', 'Gender']\n",
    "target_col = 'Vascular event'"
   ]
  },
  {
   "cell_type": "code",
   "execution_count": 8,
   "metadata": {},
   "outputs": [],
   "source": [
    "X = df.drop(columns=[target_col])\n",
    "y = df[target_col]"
   ]
  },
  {
   "cell_type": "code",
   "execution_count": 9,
   "metadata": {},
   "outputs": [],
   "source": [
    "scaler = StandardScaler()\n",
    "X_cont_scaled = scaler.fit_transform(X[continuous_cols])\n",
    "X_cont_scaled = pd.DataFrame(X_cont_scaled, columns=continuous_cols)"
   ]
  },
  {
   "cell_type": "code",
   "execution_count": 15,
   "metadata": {},
   "outputs": [],
   "source": [
    "encoder = OrdinalEncoder()\n",
    "X_cat_encoded = encoder.fit_transform(X[categorical_cols])\n",
    "X_cat_encoded = pd.DataFrame(X_cat_encoded, columns=categorical_cols)"
   ]
  },
  {
   "cell_type": "code",
   "execution_count": 11,
   "metadata": {},
   "outputs": [
    {
     "data": {
      "application/vnd.microsoft.datawrangler.viewer.v0+json": {
       "columns": [
        {
         "name": "index",
         "rawType": "int64",
         "type": "integer"
        },
        {
         "name": "Age",
         "rawType": "float64",
         "type": "float"
        },
        {
         "name": "Weight",
         "rawType": "float64",
         "type": "float"
        },
        {
         "name": "Height",
         "rawType": "float64",
         "type": "float"
        },
        {
         "name": "SBP",
         "rawType": "float64",
         "type": "float"
        },
        {
         "name": "DBP",
         "rawType": "float64",
         "type": "float"
        }
       ],
       "conversionMethod": "pd.DataFrame",
       "ref": "3581a2ac-3dcc-49e1-8949-1d0262a0e16c",
       "rows": [
        [
         "0",
         "-2.221465510510378",
         "2.1949396355777506",
         "1.7466729354773016",
         "0.1313985867949824",
         "0.48554019595146514"
        ],
        [
         "1",
         "1.1389717236091346",
         "0.1764093679289696",
         "-0.3599562468382255",
         "1.9507318498714228",
         "-0.07110029844375954"
        ],
        [
         "2",
         "0.7189170693441954",
         "0.8223390535765794",
         "1.465789044501898",
         "0.1313985867949824",
         "1.0421806903466897"
        ],
        [
         "3",
         "-0.8212833296272479",
         "0.1764093679289696",
         "0.9040212625510907",
         "-1.3437364913751044",
         "-1.184381287234209"
        ],
        [
         "4",
         "1.6990445959623866",
         "-0.4695203177186403",
         "0.3422534806002835",
         "-0.8520247986517422",
         "-0.6277407928389842"
        ]
       ],
       "shape": {
        "columns": 5,
        "rows": 5
       }
      },
      "text/html": [
       "<div>\n",
       "<style scoped>\n",
       "    .dataframe tbody tr th:only-of-type {\n",
       "        vertical-align: middle;\n",
       "    }\n",
       "\n",
       "    .dataframe tbody tr th {\n",
       "        vertical-align: top;\n",
       "    }\n",
       "\n",
       "    .dataframe thead th {\n",
       "        text-align: right;\n",
       "    }\n",
       "</style>\n",
       "<table border=\"1\" class=\"dataframe\">\n",
       "  <thead>\n",
       "    <tr style=\"text-align: right;\">\n",
       "      <th></th>\n",
       "      <th>Age</th>\n",
       "      <th>Weight</th>\n",
       "      <th>Height</th>\n",
       "      <th>SBP</th>\n",
       "      <th>DBP</th>\n",
       "    </tr>\n",
       "  </thead>\n",
       "  <tbody>\n",
       "    <tr>\n",
       "      <th>0</th>\n",
       "      <td>-2.221466</td>\n",
       "      <td>2.194940</td>\n",
       "      <td>1.746673</td>\n",
       "      <td>0.131399</td>\n",
       "      <td>0.485540</td>\n",
       "    </tr>\n",
       "    <tr>\n",
       "      <th>1</th>\n",
       "      <td>1.138972</td>\n",
       "      <td>0.176409</td>\n",
       "      <td>-0.359956</td>\n",
       "      <td>1.950732</td>\n",
       "      <td>-0.071100</td>\n",
       "    </tr>\n",
       "    <tr>\n",
       "      <th>2</th>\n",
       "      <td>0.718917</td>\n",
       "      <td>0.822339</td>\n",
       "      <td>1.465789</td>\n",
       "      <td>0.131399</td>\n",
       "      <td>1.042181</td>\n",
       "    </tr>\n",
       "    <tr>\n",
       "      <th>3</th>\n",
       "      <td>-0.821283</td>\n",
       "      <td>0.176409</td>\n",
       "      <td>0.904021</td>\n",
       "      <td>-1.343736</td>\n",
       "      <td>-1.184381</td>\n",
       "    </tr>\n",
       "    <tr>\n",
       "      <th>4</th>\n",
       "      <td>1.699045</td>\n",
       "      <td>-0.469520</td>\n",
       "      <td>0.342253</td>\n",
       "      <td>-0.852025</td>\n",
       "      <td>-0.627741</td>\n",
       "    </tr>\n",
       "  </tbody>\n",
       "</table>\n",
       "</div>"
      ],
      "text/plain": [
       "        Age    Weight    Height       SBP       DBP\n",
       "0 -2.221466  2.194940  1.746673  0.131399  0.485540\n",
       "1  1.138972  0.176409 -0.359956  1.950732 -0.071100\n",
       "2  0.718917  0.822339  1.465789  0.131399  1.042181\n",
       "3 -0.821283  0.176409  0.904021 -1.343736 -1.184381\n",
       "4  1.699045 -0.469520  0.342253 -0.852025 -0.627741"
      ]
     },
     "execution_count": 11,
     "metadata": {},
     "output_type": "execute_result"
    }
   ],
   "source": [
    "X_cont_scaled.head()"
   ]
  },
  {
   "cell_type": "code",
   "execution_count": 16,
   "metadata": {},
   "outputs": [
    {
     "data": {
      "application/vnd.microsoft.datawrangler.viewer.v0+json": {
       "columns": [
        {
         "name": "index",
         "rawType": "int64",
         "type": "integer"
        },
        {
         "name": "Smoker",
         "rawType": "float64",
         "type": "float"
        },
        {
         "name": "Gender",
         "rawType": "float64",
         "type": "float"
        }
       ],
       "conversionMethod": "pd.DataFrame",
       "ref": "ce0bde18-7200-4333-9ee2-be4747e859e6",
       "rows": [
        [
         "0",
         "1.0",
         "1.0"
        ],
        [
         "1",
         "0.0",
         "0.0"
        ],
        [
         "2",
         "0.0",
         "1.0"
        ],
        [
         "3",
         "0.0",
         "0.0"
        ],
        [
         "4",
         "0.0",
         "1.0"
        ]
       ],
       "shape": {
        "columns": 2,
        "rows": 5
       }
      },
      "text/html": [
       "<div>\n",
       "<style scoped>\n",
       "    .dataframe tbody tr th:only-of-type {\n",
       "        vertical-align: middle;\n",
       "    }\n",
       "\n",
       "    .dataframe tbody tr th {\n",
       "        vertical-align: top;\n",
       "    }\n",
       "\n",
       "    .dataframe thead th {\n",
       "        text-align: right;\n",
       "    }\n",
       "</style>\n",
       "<table border=\"1\" class=\"dataframe\">\n",
       "  <thead>\n",
       "    <tr style=\"text-align: right;\">\n",
       "      <th></th>\n",
       "      <th>Smoker</th>\n",
       "      <th>Gender</th>\n",
       "    </tr>\n",
       "  </thead>\n",
       "  <tbody>\n",
       "    <tr>\n",
       "      <th>0</th>\n",
       "      <td>1.0</td>\n",
       "      <td>1.0</td>\n",
       "    </tr>\n",
       "    <tr>\n",
       "      <th>1</th>\n",
       "      <td>0.0</td>\n",
       "      <td>0.0</td>\n",
       "    </tr>\n",
       "    <tr>\n",
       "      <th>2</th>\n",
       "      <td>0.0</td>\n",
       "      <td>1.0</td>\n",
       "    </tr>\n",
       "    <tr>\n",
       "      <th>3</th>\n",
       "      <td>0.0</td>\n",
       "      <td>0.0</td>\n",
       "    </tr>\n",
       "    <tr>\n",
       "      <th>4</th>\n",
       "      <td>0.0</td>\n",
       "      <td>1.0</td>\n",
       "    </tr>\n",
       "  </tbody>\n",
       "</table>\n",
       "</div>"
      ],
      "text/plain": [
       "   Smoker  Gender\n",
       "0     1.0     1.0\n",
       "1     0.0     0.0\n",
       "2     0.0     1.0\n",
       "3     0.0     0.0\n",
       "4     0.0     1.0"
      ]
     },
     "execution_count": 16,
     "metadata": {},
     "output_type": "execute_result"
    }
   ],
   "source": [
    "X_cat_encoded.head()"
   ]
  },
  {
   "cell_type": "code",
   "execution_count": 27,
   "metadata": {},
   "outputs": [
    {
     "name": "stdout",
     "output_type": "stream",
     "text": [
      "Original class distribution:\n",
      "Vascular event\n",
      "none                     104\n",
      "myocardial infarction      9\n",
      "stroke                     3\n",
      "syncope                    3\n",
      "Name: count, dtype: int64\n"
     ]
    }
   ],
   "source": [
    "print(\"Original class distribution:\")\n",
    "print(pd.Series(y).value_counts())"
   ]
  },
  {
   "cell_type": "code",
   "execution_count": null,
   "metadata": {},
   "outputs": [
    {
     "name": "stdout",
     "output_type": "stream",
     "text": [
      "After ADASYN (continuous features):\n",
      "Vascular event\n",
      "myocardial infarction    108\n",
      "stroke                   105\n",
      "syncope                  105\n",
      "none                     104\n",
      "Name: count, dtype: int64\n"
     ]
    }
   ],
   "source": [
    "adasyn = ADASYN(sampling_strategy='not majority',\n",
    "                n_neighbors=2, random_state=42)\n",
    "X_cont_res, y_cont_res = adasyn.fit_resample(X_cont_scaled, y)\n",
    "vals = pd.Series(y_cont_res).value_counts()\n",
    "smote_oversample = {\n",
    "    'myocardial infarction':vals.values[0],\n",
    "    'stroke':vals.stroke,\n",
    "    'syncope':vals.syncope,\n",
    "    'none':vals.none\n",
    "}\n",
    "smoten = SMOTEN(sampling_strategy=smote_oversample,\n",
    "                k_neighbors=2, random_state=42)\n",
    "X_cat_res, y_cat_res = smoten.fit_resample(X_cat_encoded, y)\n",
    "\n",
    "print(\"After ADASYN (continuous features):\")\n",
    "print(pd.Series(y_cont_res).value_counts())"
   ]
  },
  {
   "cell_type": "code",
   "execution_count": 29,
   "metadata": {},
   "outputs": [],
   "source": [
    "vals = pd.Series(y_cont_res).value_counts()\n",
    "smote_oversample = {\n",
    "    'myocardial infarction':vals.values[0],\n",
    "    'stroke':vals.stroke,\n",
    "    'syncope':vals.syncope,\n",
    "    'none':vals.none\n",
    "}"
   ]
  },
  {
   "cell_type": "code",
   "execution_count": 30,
   "metadata": {},
   "outputs": [
    {
     "name": "stdout",
     "output_type": "stream",
     "text": [
      "After SMOTEN (categorical features):\n",
      "Vascular event\n",
      "myocardial infarction    108\n",
      "stroke                   105\n",
      "syncope                  105\n",
      "none                     104\n",
      "Name: count, dtype: int64\n"
     ]
    }
   ],
   "source": [
    "smoten = SMOTEN(sampling_strategy=smote_oversample,k_neighbors=2, random_state=42)\n",
    "X_cat_res, y_cat_res = smoten.fit_resample(X_cat_encoded, y)\n",
    "\n",
    "print(\"After SMOTEN (categorical features):\")\n",
    "print(pd.Series(y_cat_res).value_counts())"
   ]
  },
  {
   "cell_type": "code",
   "execution_count": 31,
   "metadata": {},
   "outputs": [],
   "source": [
    "if np.array_equal(y_cont_res, y_cat_res):\n",
    "    X_res = pd.concat([X_cont_res.reset_index(drop=True),\n",
    "                       X_cat_res.reset_index(drop=True)], axis=1)\n",
    "    y_res = y_cont_res.reset_index(drop=True)\n",
    "else:\n",
    "    X_res = pd.concat([X_cont_res.reset_index(drop=True),\n",
    "                       X_cat_res.reset_index(drop=True)], axis=1)\n",
    "    y_res = y_cont_res.reset_index(drop=True)"
   ]
  },
  {
   "cell_type": "code",
   "execution_count": 32,
   "metadata": {},
   "outputs": [
    {
     "data": {
      "text/html": [
       "<div>\n",
       "<style scoped>\n",
       "    .dataframe tbody tr th:only-of-type {\n",
       "        vertical-align: middle;\n",
       "    }\n",
       "\n",
       "    .dataframe tbody tr th {\n",
       "        vertical-align: top;\n",
       "    }\n",
       "\n",
       "    .dataframe thead th {\n",
       "        text-align: right;\n",
       "    }\n",
       "</style>\n",
       "<table border=\"1\" class=\"dataframe\">\n",
       "  <thead>\n",
       "    <tr style=\"text-align: right;\">\n",
       "      <th></th>\n",
       "      <th>Age</th>\n",
       "      <th>Weight</th>\n",
       "      <th>Height</th>\n",
       "      <th>SBP</th>\n",
       "      <th>DBP</th>\n",
       "      <th>Smoker</th>\n",
       "      <th>Gender</th>\n",
       "    </tr>\n",
       "  </thead>\n",
       "  <tbody>\n",
       "    <tr>\n",
       "      <th>0</th>\n",
       "      <td>-2.221466</td>\n",
       "      <td>2.194940</td>\n",
       "      <td>1.746673</td>\n",
       "      <td>0.131399</td>\n",
       "      <td>0.485540</td>\n",
       "      <td>1.0</td>\n",
       "      <td>1.0</td>\n",
       "    </tr>\n",
       "    <tr>\n",
       "      <th>1</th>\n",
       "      <td>1.138972</td>\n",
       "      <td>0.176409</td>\n",
       "      <td>-0.359956</td>\n",
       "      <td>1.950732</td>\n",
       "      <td>-0.071100</td>\n",
       "      <td>0.0</td>\n",
       "      <td>0.0</td>\n",
       "    </tr>\n",
       "    <tr>\n",
       "      <th>2</th>\n",
       "      <td>0.718917</td>\n",
       "      <td>0.822339</td>\n",
       "      <td>1.465789</td>\n",
       "      <td>0.131399</td>\n",
       "      <td>1.042181</td>\n",
       "      <td>0.0</td>\n",
       "      <td>1.0</td>\n",
       "    </tr>\n",
       "    <tr>\n",
       "      <th>3</th>\n",
       "      <td>-0.821283</td>\n",
       "      <td>0.176409</td>\n",
       "      <td>0.904021</td>\n",
       "      <td>-1.343736</td>\n",
       "      <td>-1.184381</td>\n",
       "      <td>0.0</td>\n",
       "      <td>0.0</td>\n",
       "    </tr>\n",
       "    <tr>\n",
       "      <th>4</th>\n",
       "      <td>1.699045</td>\n",
       "      <td>-0.469520</td>\n",
       "      <td>0.342253</td>\n",
       "      <td>-0.852025</td>\n",
       "      <td>-0.627741</td>\n",
       "      <td>0.0</td>\n",
       "      <td>1.0</td>\n",
       "    </tr>\n",
       "  </tbody>\n",
       "</table>\n",
       "</div>"
      ],
      "text/plain": [
       "        Age    Weight    Height       SBP       DBP  Smoker  Gender\n",
       "0 -2.221466  2.194940  1.746673  0.131399  0.485540     1.0     1.0\n",
       "1  1.138972  0.176409 -0.359956  1.950732 -0.071100     0.0     0.0\n",
       "2  0.718917  0.822339  1.465789  0.131399  1.042181     0.0     1.0\n",
       "3 -0.821283  0.176409  0.904021 -1.343736 -1.184381     0.0     0.0\n",
       "4  1.699045 -0.469520  0.342253 -0.852025 -0.627741     0.0     1.0"
      ]
     },
     "execution_count": 32,
     "metadata": {},
     "output_type": "execute_result"
    }
   ],
   "source": [
    "X_res.head()"
   ]
  },
  {
   "cell_type": "code",
   "execution_count": 33,
   "metadata": {},
   "outputs": [
    {
     "data": {
      "text/plain": [
       "0    none\n",
       "1    none\n",
       "2    none\n",
       "3    none\n",
       "4    none\n",
       "Name: Vascular event, dtype: object"
      ]
     },
     "execution_count": 33,
     "metadata": {},
     "output_type": "execute_result"
    }
   ],
   "source": [
    "y_res.head()"
   ]
  },
  {
   "cell_type": "code",
   "execution_count": 34,
   "metadata": {},
   "outputs": [
    {
     "data": {
      "text/html": [
       "<div>\n",
       "<style scoped>\n",
       "    .dataframe tbody tr th:only-of-type {\n",
       "        vertical-align: middle;\n",
       "    }\n",
       "\n",
       "    .dataframe tbody tr th {\n",
       "        vertical-align: top;\n",
       "    }\n",
       "\n",
       "    .dataframe thead th {\n",
       "        text-align: right;\n",
       "    }\n",
       "</style>\n",
       "<table border=\"1\" class=\"dataframe\">\n",
       "  <thead>\n",
       "    <tr style=\"text-align: right;\">\n",
       "      <th></th>\n",
       "      <th>Age</th>\n",
       "      <th>Weight</th>\n",
       "      <th>Height</th>\n",
       "      <th>SBP</th>\n",
       "      <th>DBP</th>\n",
       "      <th>Smoker</th>\n",
       "      <th>Gender</th>\n",
       "      <th>Vascular event</th>\n",
       "    </tr>\n",
       "  </thead>\n",
       "  <tbody>\n",
       "    <tr>\n",
       "      <th>0</th>\n",
       "      <td>-2.221466</td>\n",
       "      <td>2.194940</td>\n",
       "      <td>1.746673</td>\n",
       "      <td>0.131399</td>\n",
       "      <td>0.485540</td>\n",
       "      <td>1.0</td>\n",
       "      <td>1.0</td>\n",
       "      <td>none</td>\n",
       "    </tr>\n",
       "    <tr>\n",
       "      <th>1</th>\n",
       "      <td>1.138972</td>\n",
       "      <td>0.176409</td>\n",
       "      <td>-0.359956</td>\n",
       "      <td>1.950732</td>\n",
       "      <td>-0.071100</td>\n",
       "      <td>0.0</td>\n",
       "      <td>0.0</td>\n",
       "      <td>none</td>\n",
       "    </tr>\n",
       "    <tr>\n",
       "      <th>2</th>\n",
       "      <td>0.718917</td>\n",
       "      <td>0.822339</td>\n",
       "      <td>1.465789</td>\n",
       "      <td>0.131399</td>\n",
       "      <td>1.042181</td>\n",
       "      <td>0.0</td>\n",
       "      <td>1.0</td>\n",
       "      <td>none</td>\n",
       "    </tr>\n",
       "    <tr>\n",
       "      <th>3</th>\n",
       "      <td>-0.821283</td>\n",
       "      <td>0.176409</td>\n",
       "      <td>0.904021</td>\n",
       "      <td>-1.343736</td>\n",
       "      <td>-1.184381</td>\n",
       "      <td>0.0</td>\n",
       "      <td>0.0</td>\n",
       "      <td>none</td>\n",
       "    </tr>\n",
       "    <tr>\n",
       "      <th>4</th>\n",
       "      <td>1.699045</td>\n",
       "      <td>-0.469520</td>\n",
       "      <td>0.342253</td>\n",
       "      <td>-0.852025</td>\n",
       "      <td>-0.627741</td>\n",
       "      <td>0.0</td>\n",
       "      <td>1.0</td>\n",
       "      <td>none</td>\n",
       "    </tr>\n",
       "  </tbody>\n",
       "</table>\n",
       "</div>"
      ],
      "text/plain": [
       "        Age    Weight    Height       SBP       DBP  Smoker  Gender  \\\n",
       "0 -2.221466  2.194940  1.746673  0.131399  0.485540     1.0     1.0   \n",
       "1  1.138972  0.176409 -0.359956  1.950732 -0.071100     0.0     0.0   \n",
       "2  0.718917  0.822339  1.465789  0.131399  1.042181     0.0     1.0   \n",
       "3 -0.821283  0.176409  0.904021 -1.343736 -1.184381     0.0     0.0   \n",
       "4  1.699045 -0.469520  0.342253 -0.852025 -0.627741     0.0     1.0   \n",
       "\n",
       "  Vascular event  \n",
       "0           none  \n",
       "1           none  \n",
       "2           none  \n",
       "3           none  \n",
       "4           none  "
      ]
     },
     "execution_count": 34,
     "metadata": {},
     "output_type": "execute_result"
    }
   ],
   "source": [
    "augmented_data = pd.concat([X_res, y_res], axis=1)\n",
    "augmented_data.head()"
   ]
  },
  {
   "cell_type": "code",
   "execution_count": 35,
   "metadata": {},
   "outputs": [
    {
     "data": {
      "image/png": "[encoded data removed]",
      "text/plain": [
       "<Figure size 640x480 with 1 Axes>"
      ]
     },
     "metadata": {},
     "output_type": "display_data"
    }
   ],
   "source": [
    "augmented_data['Vascular event'].value_counts().plot(kind='bar', title='Class Distribution')\n",
    "plt.show()"
   ]
  },
  {
   "cell_type": "code",
   "execution_count": 36,
   "metadata": {},
   "outputs": [],
   "source": [
    "augmented_data.to_csv(\"augmented_dataset.csv\", index=False)"
   ]
  }
 ],
 "metadata": {
  "kernelspec": {
   "display_name": ".venv",
   "language": "python",
   "name": "python3"
  },
  "language_info": {
   "codemirror_mode": {
    "name": "ipython",
    "version": 3
   },
   "file_extension": ".py",
   "mimetype": "text/x-python",
   "name": "python",
   "nbconvert_exporter": "python",
   "pygments_lexer": "ipython3",
   "version": "3.10.12"
  }
 },
 "nbformat": 4,
 "nbformat_minor": 2
}
