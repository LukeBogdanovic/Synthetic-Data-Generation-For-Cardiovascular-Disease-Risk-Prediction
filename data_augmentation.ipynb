{
 "cells": [
  {
   "cell_type": "markdown",
   "metadata": {},
   "source": [
    "# Data Augmentation"
   ]
  },
  {
   "cell_type": "code",
   "execution_count": 1,
   "metadata": {},
   "outputs": [],
   "source": [
    "from imblearn.over_sampling import SMOTENC, ADASYN\n",
    "from sklearn.neighbors import LocalOutlierFactor\n",
    "import pandas as pd\n",
    "import numpy as np\n",
    "import matplotlib.pyplot as plt\n",
    "\n",
    "%matplotlib inline"
   ]
  },
  {
   "cell_type": "code",
   "execution_count": 2,
   "metadata": {},
   "outputs": [],
   "source": [
    "file_path = \"data/CRFs.csv\"\n",
    "data = pd.read_csv(file_path)\n",
    "data = data.replace(\"n/a\", np.nan).dropna()"
   ]
  },
  {
   "cell_type": "code",
   "execution_count": 3,
   "metadata": {},
   "outputs": [],
   "source": [
    "def add_noise(series, noise_level):\n",
    "    return series + np.random.normal(0, noise_level, size=series.shape)"
   ]
  },
  {
   "cell_type": "code",
   "execution_count": 4,
   "metadata": {},
   "outputs": [],
   "source": [
    "data['SBP'] = add_noise(data['SBP'], 5) # 5mmHG\n",
    "data['DBP'] = add_noise(data['DBP'], 3) # 3 mmHG\n",
    "data['Weight'] = add_noise(data['Weight'], 1.5) # 1.5kg\n",
    "data['Height'] = add_noise(data['Height'], 2) # 2cm"
   ]
  },
  {
   "cell_type": "code",
   "execution_count": 5,
   "metadata": {},
   "outputs": [],
   "source": [
    "data['SBP'] = np.clip(data['SBP'], 90, 200)\n",
    "data['DBP'] = np.clip(data['DBP'], 50, 120)\n",
    "data['Weight'] = np.clip(data['Weight'], 30, 200)\n",
    "data['Height'] = np.clip(data['Height'], 140, 200)"
   ]
  },
  {
   "cell_type": "code",
   "execution_count": 6,
   "metadata": {},
   "outputs": [
    {
     "data": {
      "text/html": [
       "<div>\n",
       "<style scoped>\n",
       "    .dataframe tbody tr th:only-of-type {\n",
       "        vertical-align: middle;\n",
       "    }\n",
       "\n",
       "    .dataframe tbody tr th {\n",
       "        vertical-align: top;\n",
       "    }\n",
       "\n",
       "    .dataframe thead th {\n",
       "        text-align: right;\n",
       "    }\n",
       "</style>\n",
       "<table border=\"1\" class=\"dataframe\">\n",
       "  <thead>\n",
       "    <tr style=\"text-align: right;\">\n",
       "      <th></th>\n",
       "      <th>Record</th>\n",
       "      <th>Gender</th>\n",
       "      <th>Age</th>\n",
       "      <th>Weight</th>\n",
       "      <th>Height</th>\n",
       "      <th>BSA</th>\n",
       "      <th>BMI</th>\n",
       "      <th>Smoker</th>\n",
       "      <th>SBP</th>\n",
       "      <th>DBP</th>\n",
       "      <th>IMT MAX</th>\n",
       "      <th>LVMi</th>\n",
       "      <th>EF</th>\n",
       "      <th>Vascular event</th>\n",
       "    </tr>\n",
       "  </thead>\n",
       "  <tbody>\n",
       "    <tr>\n",
       "      <th>0</th>\n",
       "      <td>1911</td>\n",
       "      <td>0</td>\n",
       "      <td>56</td>\n",
       "      <td>102.397042</td>\n",
       "      <td>181.843492</td>\n",
       "      <td>2.29</td>\n",
       "      <td>32.41</td>\n",
       "      <td>1</td>\n",
       "      <td>135.038640</td>\n",
       "      <td>82.653923</td>\n",
       "      <td>4.0</td>\n",
       "      <td>123.0</td>\n",
       "      <td>66.0</td>\n",
       "      <td>none</td>\n",
       "    </tr>\n",
       "    <tr>\n",
       "      <th>2</th>\n",
       "      <td>2019</td>\n",
       "      <td>1</td>\n",
       "      <td>80</td>\n",
       "      <td>80.391854</td>\n",
       "      <td>167.104505</td>\n",
       "      <td>1.91</td>\n",
       "      <td>29.38</td>\n",
       "      <td>0</td>\n",
       "      <td>174.551655</td>\n",
       "      <td>76.037537</td>\n",
       "      <td>2.5</td>\n",
       "      <td>164.0</td>\n",
       "      <td>56.0</td>\n",
       "      <td>none</td>\n",
       "    </tr>\n",
       "    <tr>\n",
       "      <th>3</th>\n",
       "      <td>2020</td>\n",
       "      <td>0</td>\n",
       "      <td>77</td>\n",
       "      <td>88.190734</td>\n",
       "      <td>177.067355</td>\n",
       "      <td>2.09</td>\n",
       "      <td>27.77</td>\n",
       "      <td>0</td>\n",
       "      <td>143.001174</td>\n",
       "      <td>82.998282</td>\n",
       "      <td>2.7</td>\n",
       "      <td>115.0</td>\n",
       "      <td>67.0</td>\n",
       "      <td>none</td>\n",
       "    </tr>\n",
       "    <tr>\n",
       "      <th>4</th>\n",
       "      <td>2025</td>\n",
       "      <td>1</td>\n",
       "      <td>66</td>\n",
       "      <td>78.183280</td>\n",
       "      <td>176.162163</td>\n",
       "      <td>1.97</td>\n",
       "      <td>26.42</td>\n",
       "      <td>0</td>\n",
       "      <td>111.045712</td>\n",
       "      <td>66.428062</td>\n",
       "      <td>1.5</td>\n",
       "      <td>98.0</td>\n",
       "      <td>66.0</td>\n",
       "      <td>none</td>\n",
       "    </tr>\n",
       "    <tr>\n",
       "      <th>5</th>\n",
       "      <td>2031</td>\n",
       "      <td>0</td>\n",
       "      <td>84</td>\n",
       "      <td>72.504206</td>\n",
       "      <td>173.162071</td>\n",
       "      <td>1.84</td>\n",
       "      <td>24.91</td>\n",
       "      <td>0</td>\n",
       "      <td>117.856537</td>\n",
       "      <td>66.788366</td>\n",
       "      <td>2.6</td>\n",
       "      <td>147.0</td>\n",
       "      <td>51.0</td>\n",
       "      <td>none</td>\n",
       "    </tr>\n",
       "  </tbody>\n",
       "</table>\n",
       "</div>"
      ],
      "text/plain": [
       "   Record  Gender  Age      Weight      Height   BSA    BMI  Smoker  \\\n",
       "0    1911       0   56  102.397042  181.843492  2.29  32.41       1   \n",
       "2    2019       1   80   80.391854  167.104505  1.91  29.38       0   \n",
       "3    2020       0   77   88.190734  177.067355  2.09  27.77       0   \n",
       "4    2025       1   66   78.183280  176.162163  1.97  26.42       0   \n",
       "5    2031       0   84   72.504206  173.162071  1.84  24.91       0   \n",
       "\n",
       "          SBP        DBP  IMT MAX   LVMi    EF Vascular event  \n",
       "0  135.038640  82.653923      4.0  123.0  66.0           none  \n",
       "2  174.551655  76.037537      2.5  164.0  56.0           none  \n",
       "3  143.001174  82.998282      2.7  115.0  67.0           none  \n",
       "4  111.045712  66.428062      1.5   98.0  66.0           none  \n",
       "5  117.856537  66.788366      2.6  147.0  51.0           none  "
      ]
     },
     "execution_count": 6,
     "metadata": {},
     "output_type": "execute_result"
    }
   ],
   "source": [
    "data['Gender'] = data['Gender'].str.upper().map({'M': 0, 'F': 1})\n",
    "data['Smoker'] = data['Smoker'].str.upper().map({'NO': 0, 'YES': 1})\n",
    "data.head()"
   ]
  },
  {
   "cell_type": "code",
   "execution_count": null,
   "metadata": {},
   "outputs": [],
   "source": [
    "X = data[['Age', 'Weight', 'Height', 'SBP', 'DBP', 'Smoker', 'Gender']]\n",
    "y = data['Vascular event']\n",
    "smote = SMOTENC(sampling_strategy={'none':104, 'myocardial infarction': 104, 'stroke': 104, 'syncope': 104}, random_state=42, k_neighbors=2, categorical_features=['Gender', 'Smoker'])\n",
    "X_resampled, y_resampled = smote.fit_resample(X, y)\n",
    "lof = LocalOutlierFactor(n_neighbors=20, contamination=0.05)\n",
    "outlier_mask = lof.fit_predict(X_resampled) == 1\n",
    "X_smote_cleaned, y_smote_cleaned = X_resampled[outlier_mask], y_resampled[outlier_mask]\n",
    "augmented_data = pd.DataFrame(X_resampled, columns=X.columns)\n",
    "augmented_data['Vascular event'] = y_resampled"
   ]
  },
  {
   "cell_type": "code",
   "execution_count": 8,
   "metadata": {},
   "outputs": [
    {
     "name": "stdout",
     "output_type": "stream",
     "text": [
      "Balanced class distribution:\n",
      "Vascular event\n",
      "none                     104\n",
      "myocardial infarction    104\n",
      "stroke                   104\n",
      "syncope                  104\n",
      "Name: count, dtype: int64\n"
     ]
    }
   ],
   "source": [
    "print(\"Balanced class distribution:\")\n",
    "print(augmented_data['Vascular event'].value_counts())"
   ]
  },
  {
   "cell_type": "code",
   "execution_count": 9,
   "metadata": {},
   "outputs": [
    {
     "data": {
      "image/png": "[encoded data removed]",
      "text/plain": [
       "<Figure size 640x480 with 1 Axes>"
      ]
     },
     "metadata": {},
     "output_type": "display_data"
    }
   ],
   "source": [
    "augmented_data['Vascular event'].value_counts().plot(kind='bar', title=\"Class Distribution\")\n",
    "plt.show()"
   ]
  },
  {
   "cell_type": "code",
   "execution_count": 10,
   "metadata": {},
   "outputs": [
    {
     "name": "stdout",
     "output_type": "stream",
     "text": [
      "Augmented dataset saved to 'augmented_dataset.csv'\n"
     ]
    }
   ],
   "source": [
    "augmented_data.to_csv(\"augmented_dataset.csv\", index=False)\n",
    "print(\"Augmented dataset saved to 'augmented_dataset.csv'\")"
   ]
  }
 ],
 "metadata": {
  "kernelspec": {
   "display_name": "Python 3",
   "language": "python",
   "name": "python3"
  },
  "language_info": {
   "codemirror_mode": {
    "name": "ipython",
    "version": 3
   },
   "file_extension": ".py",
   "mimetype": "text/x-python",
   "name": "python",
   "nbconvert_exporter": "python",
   "pygments_lexer": "ipython3",
   "version": "3.10.12"
  }
 },
 "nbformat": 4,
 "nbformat_minor": 2
}
