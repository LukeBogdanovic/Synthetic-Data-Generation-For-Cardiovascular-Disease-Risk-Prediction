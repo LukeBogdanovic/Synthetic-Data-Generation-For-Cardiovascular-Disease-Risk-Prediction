{
 "cells": [
  {
   "cell_type": "code",
   "execution_count": 16,
   "metadata": {},
   "outputs": [],
   "source": [
    "from sdv.single_table import TVAESynthesizer\n",
    "from sdv.metadata import SingleTableMetadata\n",
    "import pandas as pd\n",
    "import matplotlib.pyplot as plt\n",
    "from sklearn.model_selection import train_test_split\n",
    "from imblearn.over_sampling import SMOTEN, ADASYN\n",
    "from sklearn.preprocessing import StandardScaler, OrdinalEncoder\n",
    "import numpy as np\n",
    "import matplotlib.pyplot as plt\n",
    "\n",
    "%matplotlib inline\n",
    "\n",
    "file_path = \"data/CRFs.csv\""
   ]
  },
  {
   "cell_type": "code",
   "execution_count": 17,
   "metadata": {},
   "outputs": [],
   "source": [
    "df = pd.read_csv(file_path)\n",
    "df = df.replace(\"n/a\", np.nan).dropna()\n",
    "df['Gender'] = df['Gender'].str.upper()\n",
    "continuous_cols = ['Age','Weight','Height','SBP','DBP']\n",
    "categorical_cols = ['Smoker', 'Gender']\n",
    "target_col = 'Vascular event'\n",
    "X = df.drop(columns=[target_col])\n",
    "y = df[target_col]"
   ]
  },
  {
   "cell_type": "code",
   "execution_count": 18,
   "metadata": {},
   "outputs": [],
   "source": [
    "scaler = StandardScaler()\n",
    "X_cont_scaled = scaler.fit_transform(X[continuous_cols])\n",
    "X_cont_scaled = pd.DataFrame(X_cont_scaled, columns=continuous_cols)\n",
    "encoder = OrdinalEncoder()\n",
    "X_cat_encoded = encoder.fit_transform(X[categorical_cols])\n",
    "X_cat_encoded = pd.DataFrame(X_cat_encoded, columns=categorical_cols)"
   ]
  },
  {
   "cell_type": "code",
   "execution_count": 19,
   "metadata": {},
   "outputs": [
    {
     "data": {
      "application/vnd.microsoft.datawrangler.viewer.v0+json": {
       "columns": [
        {
         "name": "index",
         "rawType": "int64",
         "type": "integer"
        },
        {
         "name": "Age",
         "rawType": "float64",
         "type": "float"
        },
        {
         "name": "Weight",
         "rawType": "float64",
         "type": "float"
        },
        {
         "name": "Height",
         "rawType": "float64",
         "type": "float"
        },
        {
         "name": "SBP",
         "rawType": "float64",
         "type": "float"
        },
        {
         "name": "DBP",
         "rawType": "float64",
         "type": "float"
        }
       ],
       "conversionMethod": "pd.DataFrame",
       "ref": "8f04acdf-a5e0-4fe5-a019-f2166d010807",
       "rows": [
        [
         "0",
         "-2.221465510510378",
         "2.1949396355777506",
         "1.7466729354773016",
         "0.1313985867949824",
         "0.48554019595146514"
        ],
        [
         "1",
         "1.1389717236091346",
         "0.1764093679289696",
         "-0.3599562468382255",
         "1.9507318498714228",
         "-0.07110029844375954"
        ],
        [
         "2",
         "0.7189170693441954",
         "0.8223390535765794",
         "1.465789044501898",
         "0.1313985867949824",
         "1.0421806903466897"
        ],
        [
         "3",
         "-0.8212833296272479",
         "0.1764093679289696",
         "0.9040212625510907",
         "-1.3437364913751044",
         "-1.184381287234209"
        ],
        [
         "4",
         "1.6990445959623866",
         "-0.4695203177186403",
         "0.3422534806002835",
         "-0.8520247986517422",
         "-0.6277407928389842"
        ]
       ],
       "shape": {
        "columns": 5,
        "rows": 5
       }
      },
      "text/html": [
       "<div>\n",
       "<style scoped>\n",
       "    .dataframe tbody tr th:only-of-type {\n",
       "        vertical-align: middle;\n",
       "    }\n",
       "\n",
       "    .dataframe tbody tr th {\n",
       "        vertical-align: top;\n",
       "    }\n",
       "\n",
       "    .dataframe thead th {\n",
       "        text-align: right;\n",
       "    }\n",
       "</style>\n",
       "<table border=\"1\" class=\"dataframe\">\n",
       "  <thead>\n",
       "    <tr style=\"text-align: right;\">\n",
       "      <th></th>\n",
       "      <th>Age</th>\n",
       "      <th>Weight</th>\n",
       "      <th>Height</th>\n",
       "      <th>SBP</th>\n",
       "      <th>DBP</th>\n",
       "    </tr>\n",
       "  </thead>\n",
       "  <tbody>\n",
       "    <tr>\n",
       "      <th>0</th>\n",
       "      <td>-2.221466</td>\n",
       "      <td>2.194940</td>\n",
       "      <td>1.746673</td>\n",
       "      <td>0.131399</td>\n",
       "      <td>0.485540</td>\n",
       "    </tr>\n",
       "    <tr>\n",
       "      <th>1</th>\n",
       "      <td>1.138972</td>\n",
       "      <td>0.176409</td>\n",
       "      <td>-0.359956</td>\n",
       "      <td>1.950732</td>\n",
       "      <td>-0.071100</td>\n",
       "    </tr>\n",
       "    <tr>\n",
       "      <th>2</th>\n",
       "      <td>0.718917</td>\n",
       "      <td>0.822339</td>\n",
       "      <td>1.465789</td>\n",
       "      <td>0.131399</td>\n",
       "      <td>1.042181</td>\n",
       "    </tr>\n",
       "    <tr>\n",
       "      <th>3</th>\n",
       "      <td>-0.821283</td>\n",
       "      <td>0.176409</td>\n",
       "      <td>0.904021</td>\n",
       "      <td>-1.343736</td>\n",
       "      <td>-1.184381</td>\n",
       "    </tr>\n",
       "    <tr>\n",
       "      <th>4</th>\n",
       "      <td>1.699045</td>\n",
       "      <td>-0.469520</td>\n",
       "      <td>0.342253</td>\n",
       "      <td>-0.852025</td>\n",
       "      <td>-0.627741</td>\n",
       "    </tr>\n",
       "  </tbody>\n",
       "</table>\n",
       "</div>"
      ],
      "text/plain": [
       "        Age    Weight    Height       SBP       DBP\n",
       "0 -2.221466  2.194940  1.746673  0.131399  0.485540\n",
       "1  1.138972  0.176409 -0.359956  1.950732 -0.071100\n",
       "2  0.718917  0.822339  1.465789  0.131399  1.042181\n",
       "3 -0.821283  0.176409  0.904021 -1.343736 -1.184381\n",
       "4  1.699045 -0.469520  0.342253 -0.852025 -0.627741"
      ]
     },
     "execution_count": 19,
     "metadata": {},
     "output_type": "execute_result"
    }
   ],
   "source": [
    "X_cont_scaled.head()"
   ]
  },
  {
   "cell_type": "code",
   "execution_count": 20,
   "metadata": {},
   "outputs": [
    {
     "data": {
      "application/vnd.microsoft.datawrangler.viewer.v0+json": {
       "columns": [
        {
         "name": "index",
         "rawType": "int64",
         "type": "integer"
        },
        {
         "name": "Smoker",
         "rawType": "float64",
         "type": "float"
        },
        {
         "name": "Gender",
         "rawType": "float64",
         "type": "float"
        }
       ],
       "conversionMethod": "pd.DataFrame",
       "ref": "2fa4bb90-d92c-41dd-bddc-69e94b216660",
       "rows": [
        [
         "0",
         "1.0",
         "1.0"
        ],
        [
         "1",
         "0.0",
         "0.0"
        ],
        [
         "2",
         "0.0",
         "1.0"
        ],
        [
         "3",
         "0.0",
         "0.0"
        ],
        [
         "4",
         "0.0",
         "1.0"
        ]
       ],
       "shape": {
        "columns": 2,
        "rows": 5
       }
      },
      "text/html": [
       "<div>\n",
       "<style scoped>\n",
       "    .dataframe tbody tr th:only-of-type {\n",
       "        vertical-align: middle;\n",
       "    }\n",
       "\n",
       "    .dataframe tbody tr th {\n",
       "        vertical-align: top;\n",
       "    }\n",
       "\n",
       "    .dataframe thead th {\n",
       "        text-align: right;\n",
       "    }\n",
       "</style>\n",
       "<table border=\"1\" class=\"dataframe\">\n",
       "  <thead>\n",
       "    <tr style=\"text-align: right;\">\n",
       "      <th></th>\n",
       "      <th>Smoker</th>\n",
       "      <th>Gender</th>\n",
       "    </tr>\n",
       "  </thead>\n",
       "  <tbody>\n",
       "    <tr>\n",
       "      <th>0</th>\n",
       "      <td>1.0</td>\n",
       "      <td>1.0</td>\n",
       "    </tr>\n",
       "    <tr>\n",
       "      <th>1</th>\n",
       "      <td>0.0</td>\n",
       "      <td>0.0</td>\n",
       "    </tr>\n",
       "    <tr>\n",
       "      <th>2</th>\n",
       "      <td>0.0</td>\n",
       "      <td>1.0</td>\n",
       "    </tr>\n",
       "    <tr>\n",
       "      <th>3</th>\n",
       "      <td>0.0</td>\n",
       "      <td>0.0</td>\n",
       "    </tr>\n",
       "    <tr>\n",
       "      <th>4</th>\n",
       "      <td>0.0</td>\n",
       "      <td>1.0</td>\n",
       "    </tr>\n",
       "  </tbody>\n",
       "</table>\n",
       "</div>"
      ],
      "text/plain": [
       "   Smoker  Gender\n",
       "0     1.0     1.0\n",
       "1     0.0     0.0\n",
       "2     0.0     1.0\n",
       "3     0.0     0.0\n",
       "4     0.0     1.0"
      ]
     },
     "execution_count": 20,
     "metadata": {},
     "output_type": "execute_result"
    }
   ],
   "source": [
    "X_cat_encoded.head()"
   ]
  },
  {
   "cell_type": "code",
   "execution_count": 21,
   "metadata": {},
   "outputs": [
    {
     "name": "stdout",
     "output_type": "stream",
     "text": [
      "Original class distribution:\n",
      "Vascular event\n",
      "none                     104\n",
      "myocardial infarction      9\n",
      "stroke                     3\n",
      "syncope                    3\n",
      "Name: count, dtype: int64\n"
     ]
    }
   ],
   "source": [
    "print(\"Original class distribution:\")\n",
    "print(pd.Series(y).value_counts())"
   ]
  },
  {
   "cell_type": "code",
   "execution_count": 22,
   "metadata": {},
   "outputs": [
    {
     "name": "stdout",
     "output_type": "stream",
     "text": [
      "After ADASYN (continuous features):\n",
      "Vascular event\n",
      "myocardial infarction    108\n",
      "stroke                   105\n",
      "syncope                  105\n",
      "none                     104\n",
      "Name: count, dtype: int64\n"
     ]
    }
   ],
   "source": [
    "adasyn = ADASYN(sampling_strategy='not majority',n_neighbors=2, random_state=42)\n",
    "X_cont_res, y_cont_res = adasyn.fit_resample(X_cont_scaled, y)\n",
    "print(\"After ADASYN (continuous features):\")\n",
    "print(pd.Series(y_cont_res).value_counts())"
   ]
  },
  {
   "cell_type": "code",
   "execution_count": 23,
   "metadata": {},
   "outputs": [
    {
     "name": "stdout",
     "output_type": "stream",
     "text": [
      "After SMOTEN (categorical features):\n",
      "Vascular event\n",
      "myocardial infarction    108\n",
      "stroke                   105\n",
      "syncope                  105\n",
      "none                     104\n",
      "Name: count, dtype: int64\n"
     ]
    }
   ],
   "source": [
    "vals = pd.Series(y_cont_res).value_counts()\n",
    "smote_oversample = {\n",
    "    'myocardial infarction':vals.values[0],\n",
    "    'stroke':vals.stroke,\n",
    "    'syncope':vals.syncope,\n",
    "    'none':vals.none\n",
    "}\n",
    "smoten = SMOTEN(sampling_strategy=smote_oversample,k_neighbors=2, random_state=42)\n",
    "X_cat_res, y_cat_res = smoten.fit_resample(X_cat_encoded, y)\n",
    "print(\"After SMOTEN (categorical features):\")\n",
    "print(pd.Series(y_cat_res).value_counts())\n",
    "if np.array_equal(y_cont_res, y_cat_res):\n",
    "    X_res = pd.concat([X_cont_res.reset_index(drop=True),\n",
    "                       X_cat_res.reset_index(drop=True)], axis=1)\n",
    "    y_res = y_cont_res.reset_index(drop=True)\n",
    "else:\n",
    "    X_res = pd.concat([X_cont_res.reset_index(drop=True),\n",
    "                       X_cat_res.reset_index(drop=True)], axis=1)\n",
    "    y_res = y_cont_res.reset_index(drop=True)"
   ]
  },
  {
   "cell_type": "code",
   "execution_count": 24,
   "metadata": {},
   "outputs": [
    {
     "data": {
      "application/vnd.microsoft.datawrangler.viewer.v0+json": {
       "columns": [
        {
         "name": "index",
         "rawType": "int64",
         "type": "integer"
        },
        {
         "name": "Age",
         "rawType": "float64",
         "type": "float"
        },
        {
         "name": "Weight",
         "rawType": "float64",
         "type": "float"
        },
        {
         "name": "Height",
         "rawType": "float64",
         "type": "float"
        },
        {
         "name": "SBP",
         "rawType": "float64",
         "type": "float"
        },
        {
         "name": "DBP",
         "rawType": "float64",
         "type": "float"
        },
        {
         "name": "Smoker",
         "rawType": "float64",
         "type": "float"
        },
        {
         "name": "Gender",
         "rawType": "float64",
         "type": "float"
        }
       ],
       "conversionMethod": "pd.DataFrame",
       "ref": "c23bb505-c8c2-4828-be36-1e9b67d0b096",
       "rows": [
        [
         "0",
         "-2.221465510510378",
         "2.1949396355777506",
         "1.7466729354773016",
         "0.1313985867949824",
         "0.48554019595146514",
         "1.0",
         "1.0"
        ],
        [
         "1",
         "1.1389717236091346",
         "0.1764093679289696",
         "-0.3599562468382255",
         "1.9507318498714228",
         "-0.07110029844375954",
         "0.0",
         "0.0"
        ],
        [
         "2",
         "0.7189170693441954",
         "0.8223390535765794",
         "1.465789044501898",
         "0.1313985867949824",
         "1.0421806903466897",
         "0.0",
         "1.0"
        ],
        [
         "3",
         "-0.8212833296272479",
         "0.1764093679289696",
         "0.9040212625510907",
         "-1.3437364913751044",
         "-1.184381287234209",
         "0.0",
         "0.0"
        ],
        [
         "4",
         "1.6990445959623866",
         "-0.4695203177186403",
         "0.3422534806002835",
         "-0.8520247986517422",
         "-0.6277407928389842",
         "0.0",
         "1.0"
        ]
       ],
       "shape": {
        "columns": 7,
        "rows": 5
       }
      },
      "text/html": [
       "<div>\n",
       "<style scoped>\n",
       "    .dataframe tbody tr th:only-of-type {\n",
       "        vertical-align: middle;\n",
       "    }\n",
       "\n",
       "    .dataframe tbody tr th {\n",
       "        vertical-align: top;\n",
       "    }\n",
       "\n",
       "    .dataframe thead th {\n",
       "        text-align: right;\n",
       "    }\n",
       "</style>\n",
       "<table border=\"1\" class=\"dataframe\">\n",
       "  <thead>\n",
       "    <tr style=\"text-align: right;\">\n",
       "      <th></th>\n",
       "      <th>Age</th>\n",
       "      <th>Weight</th>\n",
       "      <th>Height</th>\n",
       "      <th>SBP</th>\n",
       "      <th>DBP</th>\n",
       "      <th>Smoker</th>\n",
       "      <th>Gender</th>\n",
       "    </tr>\n",
       "  </thead>\n",
       "  <tbody>\n",
       "    <tr>\n",
       "      <th>0</th>\n",
       "      <td>-2.221466</td>\n",
       "      <td>2.194940</td>\n",
       "      <td>1.746673</td>\n",
       "      <td>0.131399</td>\n",
       "      <td>0.485540</td>\n",
       "      <td>1.0</td>\n",
       "      <td>1.0</td>\n",
       "    </tr>\n",
       "    <tr>\n",
       "      <th>1</th>\n",
       "      <td>1.138972</td>\n",
       "      <td>0.176409</td>\n",
       "      <td>-0.359956</td>\n",
       "      <td>1.950732</td>\n",
       "      <td>-0.071100</td>\n",
       "      <td>0.0</td>\n",
       "      <td>0.0</td>\n",
       "    </tr>\n",
       "    <tr>\n",
       "      <th>2</th>\n",
       "      <td>0.718917</td>\n",
       "      <td>0.822339</td>\n",
       "      <td>1.465789</td>\n",
       "      <td>0.131399</td>\n",
       "      <td>1.042181</td>\n",
       "      <td>0.0</td>\n",
       "      <td>1.0</td>\n",
       "    </tr>\n",
       "    <tr>\n",
       "      <th>3</th>\n",
       "      <td>-0.821283</td>\n",
       "      <td>0.176409</td>\n",
       "      <td>0.904021</td>\n",
       "      <td>-1.343736</td>\n",
       "      <td>-1.184381</td>\n",
       "      <td>0.0</td>\n",
       "      <td>0.0</td>\n",
       "    </tr>\n",
       "    <tr>\n",
       "      <th>4</th>\n",
       "      <td>1.699045</td>\n",
       "      <td>-0.469520</td>\n",
       "      <td>0.342253</td>\n",
       "      <td>-0.852025</td>\n",
       "      <td>-0.627741</td>\n",
       "      <td>0.0</td>\n",
       "      <td>1.0</td>\n",
       "    </tr>\n",
       "  </tbody>\n",
       "</table>\n",
       "</div>"
      ],
      "text/plain": [
       "        Age    Weight    Height       SBP       DBP  Smoker  Gender\n",
       "0 -2.221466  2.194940  1.746673  0.131399  0.485540     1.0     1.0\n",
       "1  1.138972  0.176409 -0.359956  1.950732 -0.071100     0.0     0.0\n",
       "2  0.718917  0.822339  1.465789  0.131399  1.042181     0.0     1.0\n",
       "3 -0.821283  0.176409  0.904021 -1.343736 -1.184381     0.0     0.0\n",
       "4  1.699045 -0.469520  0.342253 -0.852025 -0.627741     0.0     1.0"
      ]
     },
     "execution_count": 24,
     "metadata": {},
     "output_type": "execute_result"
    }
   ],
   "source": [
    "X_res.head()"
   ]
  },
  {
   "cell_type": "code",
   "execution_count": 25,
   "metadata": {},
   "outputs": [
    {
     "data": {
      "text/plain": [
       "0    none\n",
       "1    none\n",
       "2    none\n",
       "3    none\n",
       "4    none\n",
       "Name: Vascular event, dtype: object"
      ]
     },
     "execution_count": 25,
     "metadata": {},
     "output_type": "execute_result"
    }
   ],
   "source": [
    "y_res.head()"
   ]
  },
  {
   "cell_type": "code",
   "execution_count": 26,
   "metadata": {},
   "outputs": [
    {
     "data": {
      "application/vnd.microsoft.datawrangler.viewer.v0+json": {
       "columns": [
        {
         "name": "index",
         "rawType": "int64",
         "type": "integer"
        },
        {
         "name": "Age",
         "rawType": "float64",
         "type": "float"
        },
        {
         "name": "Weight",
         "rawType": "float64",
         "type": "float"
        },
        {
         "name": "Height",
         "rawType": "float64",
         "type": "float"
        },
        {
         "name": "SBP",
         "rawType": "float64",
         "type": "float"
        },
        {
         "name": "DBP",
         "rawType": "float64",
         "type": "float"
        },
        {
         "name": "Smoker",
         "rawType": "float64",
         "type": "float"
        },
        {
         "name": "Gender",
         "rawType": "float64",
         "type": "float"
        },
        {
         "name": "Vascular event",
         "rawType": "object",
         "type": "string"
        }
       ],
       "conversionMethod": "pd.DataFrame",
       "ref": "b74c3208-c3f1-4784-8faa-048f9e8323b7",
       "rows": [
        [
         "0",
         "-2.221465510510378",
         "2.1949396355777506",
         "1.7466729354773016",
         "0.1313985867949824",
         "0.48554019595146514",
         "1.0",
         "1.0",
         "none"
        ],
        [
         "1",
         "1.1389717236091346",
         "0.1764093679289696",
         "-0.3599562468382255",
         "1.9507318498714228",
         "-0.07110029844375954",
         "0.0",
         "0.0",
         "none"
        ],
        [
         "2",
         "0.7189170693441954",
         "0.8223390535765794",
         "1.465789044501898",
         "0.1313985867949824",
         "1.0421806903466897",
         "0.0",
         "1.0",
         "none"
        ],
        [
         "3",
         "-0.8212833296272479",
         "0.1764093679289696",
         "0.9040212625510907",
         "-1.3437364913751044",
         "-1.184381287234209",
         "0.0",
         "0.0",
         "none"
        ],
        [
         "4",
         "1.6990445959623866",
         "-0.4695203177186403",
         "0.3422534806002835",
         "-0.8520247986517422",
         "-0.6277407928389842",
         "0.0",
         "1.0",
         "none"
        ]
       ],
       "shape": {
        "columns": 8,
        "rows": 5
       }
      },
      "text/html": [
       "<div>\n",
       "<style scoped>\n",
       "    .dataframe tbody tr th:only-of-type {\n",
       "        vertical-align: middle;\n",
       "    }\n",
       "\n",
       "    .dataframe tbody tr th {\n",
       "        vertical-align: top;\n",
       "    }\n",
       "\n",
       "    .dataframe thead th {\n",
       "        text-align: right;\n",
       "    }\n",
       "</style>\n",
       "<table border=\"1\" class=\"dataframe\">\n",
       "  <thead>\n",
       "    <tr style=\"text-align: right;\">\n",
       "      <th></th>\n",
       "      <th>Age</th>\n",
       "      <th>Weight</th>\n",
       "      <th>Height</th>\n",
       "      <th>SBP</th>\n",
       "      <th>DBP</th>\n",
       "      <th>Smoker</th>\n",
       "      <th>Gender</th>\n",
       "      <th>Vascular event</th>\n",
       "    </tr>\n",
       "  </thead>\n",
       "  <tbody>\n",
       "    <tr>\n",
       "      <th>0</th>\n",
       "      <td>-2.221466</td>\n",
       "      <td>2.194940</td>\n",
       "      <td>1.746673</td>\n",
       "      <td>0.131399</td>\n",
       "      <td>0.485540</td>\n",
       "      <td>1.0</td>\n",
       "      <td>1.0</td>\n",
       "      <td>none</td>\n",
       "    </tr>\n",
       "    <tr>\n",
       "      <th>1</th>\n",
       "      <td>1.138972</td>\n",
       "      <td>0.176409</td>\n",
       "      <td>-0.359956</td>\n",
       "      <td>1.950732</td>\n",
       "      <td>-0.071100</td>\n",
       "      <td>0.0</td>\n",
       "      <td>0.0</td>\n",
       "      <td>none</td>\n",
       "    </tr>\n",
       "    <tr>\n",
       "      <th>2</th>\n",
       "      <td>0.718917</td>\n",
       "      <td>0.822339</td>\n",
       "      <td>1.465789</td>\n",
       "      <td>0.131399</td>\n",
       "      <td>1.042181</td>\n",
       "      <td>0.0</td>\n",
       "      <td>1.0</td>\n",
       "      <td>none</td>\n",
       "    </tr>\n",
       "    <tr>\n",
       "      <th>3</th>\n",
       "      <td>-0.821283</td>\n",
       "      <td>0.176409</td>\n",
       "      <td>0.904021</td>\n",
       "      <td>-1.343736</td>\n",
       "      <td>-1.184381</td>\n",
       "      <td>0.0</td>\n",
       "      <td>0.0</td>\n",
       "      <td>none</td>\n",
       "    </tr>\n",
       "    <tr>\n",
       "      <th>4</th>\n",
       "      <td>1.699045</td>\n",
       "      <td>-0.469520</td>\n",
       "      <td>0.342253</td>\n",
       "      <td>-0.852025</td>\n",
       "      <td>-0.627741</td>\n",
       "      <td>0.0</td>\n",
       "      <td>1.0</td>\n",
       "      <td>none</td>\n",
       "    </tr>\n",
       "  </tbody>\n",
       "</table>\n",
       "</div>"
      ],
      "text/plain": [
       "        Age    Weight    Height       SBP       DBP  Smoker  Gender  \\\n",
       "0 -2.221466  2.194940  1.746673  0.131399  0.485540     1.0     1.0   \n",
       "1  1.138972  0.176409 -0.359956  1.950732 -0.071100     0.0     0.0   \n",
       "2  0.718917  0.822339  1.465789  0.131399  1.042181     0.0     1.0   \n",
       "3 -0.821283  0.176409  0.904021 -1.343736 -1.184381     0.0     0.0   \n",
       "4  1.699045 -0.469520  0.342253 -0.852025 -0.627741     0.0     1.0   \n",
       "\n",
       "  Vascular event  \n",
       "0           none  \n",
       "1           none  \n",
       "2           none  \n",
       "3           none  \n",
       "4           none  "
      ]
     },
     "execution_count": 26,
     "metadata": {},
     "output_type": "execute_result"
    }
   ],
   "source": [
    "augmented_data = pd.concat([X_res, y_res], axis=1)\n",
    "augmented_data.head()"
   ]
  },
  {
   "cell_type": "code",
   "execution_count": null,
   "metadata": {},
   "outputs": [
    {
     "data": {
      "image/png": "[encoded data removed]",
      "text/plain": [
       "<Figure size 640x480 with 1 Axes>"
      ]
     },
     "metadata": {},
     "output_type": "display_data"
    }
   ],
   "source": [
    "augmented_data['Vascular event'].value_counts().plot(kind='bar', title='Class Distribution')\n",
    "plt.show()\n",
    "augmented_data.to_csv(\"augmented_dataset.csv\", index=False)"
   ]
  },
  {
   "cell_type": "code",
   "execution_count": 74,
   "metadata": {},
   "outputs": [
    {
     "name": "stdout",
     "output_type": "stream",
     "text": [
      "True\n"
     ]
    }
   ],
   "source": [
    "import torch\n",
    "import torch.nn as nn\n",
    "from torch.utils.data import TensorDataset, dataloader\n",
    "print(torch.cuda.is_available())\n",
    "batch_size = 64\n",
    "device = torch.device(\"cuda\" if torch.cuda.is_available() else \"cpu\")"
   ]
  },
  {
   "cell_type": "code",
   "execution_count": 29,
   "metadata": {},
   "outputs": [
    {
     "data": {
      "application/vnd.microsoft.datawrangler.viewer.v0+json": {
       "columns": [
        {
         "name": "index",
         "rawType": "int64",
         "type": "integer"
        },
        {
         "name": "Record",
         "rawType": "int64",
         "type": "integer"
        },
        {
         "name": "Gender",
         "rawType": "object",
         "type": "string"
        },
        {
         "name": "Age",
         "rawType": "int64",
         "type": "integer"
        },
        {
         "name": "Weight",
         "rawType": "int64",
         "type": "integer"
        },
        {
         "name": "Height",
         "rawType": "int64",
         "type": "integer"
        },
        {
         "name": "BSA",
         "rawType": "float64",
         "type": "float"
        },
        {
         "name": "BMI",
         "rawType": "float64",
         "type": "float"
        },
        {
         "name": "Smoker",
         "rawType": "object",
         "type": "string"
        },
        {
         "name": "SBP",
         "rawType": "float64",
         "type": "float"
        },
        {
         "name": "DBP",
         "rawType": "float64",
         "type": "float"
        },
        {
         "name": "IMT MAX",
         "rawType": "float64",
         "type": "float"
        },
        {
         "name": "LVMi",
         "rawType": "float64",
         "type": "float"
        },
        {
         "name": "EF",
         "rawType": "float64",
         "type": "float"
        },
        {
         "name": "Vascular event",
         "rawType": "object",
         "type": "string"
        }
       ],
       "conversionMethod": "pd.DataFrame",
       "ref": "8e734deb-a51f-4bba-a5b1-f5e78c768403",
       "rows": [
        [
         "0",
         "1911",
         "M",
         "56",
         "105",
         "180",
         "2.29",
         "32.41",
         "yes",
         "140.0",
         "80.0",
         "4.0",
         "123.0",
         "66.0",
         "none"
        ],
        [
         "2",
         "2019",
         "F",
         "80",
         "80",
         "165",
         "1.91",
         "29.38",
         "no",
         "177.0",
         "75.0",
         "2.5",
         "164.0",
         "56.0",
         "none"
        ],
        [
         "3",
         "2020",
         "M",
         "77",
         "88",
         "178",
         "2.09",
         "27.77",
         "no",
         "140.0",
         "85.0",
         "2.7",
         "115.0",
         "67.0",
         "none"
        ],
        [
         "4",
         "2025",
         "F",
         "66",
         "80",
         "174",
         "1.97",
         "26.42",
         "no",
         "110.0",
         "65.0",
         "1.5",
         "98.0",
         "66.0",
         "none"
        ],
        [
         "5",
         "2031",
         "M",
         "84",
         "72",
         "170",
         "1.84",
         "24.91",
         "no",
         "120.0",
         "70.0",
         "2.6",
         "147.0",
         "51.0",
         "none"
        ]
       ],
       "shape": {
        "columns": 14,
        "rows": 5
       }
      },
      "text/html": [
       "<div>\n",
       "<style scoped>\n",
       "    .dataframe tbody tr th:only-of-type {\n",
       "        vertical-align: middle;\n",
       "    }\n",
       "\n",
       "    .dataframe tbody tr th {\n",
       "        vertical-align: top;\n",
       "    }\n",
       "\n",
       "    .dataframe thead th {\n",
       "        text-align: right;\n",
       "    }\n",
       "</style>\n",
       "<table border=\"1\" class=\"dataframe\">\n",
       "  <thead>\n",
       "    <tr style=\"text-align: right;\">\n",
       "      <th></th>\n",
       "      <th>Record</th>\n",
       "      <th>Gender</th>\n",
       "      <th>Age</th>\n",
       "      <th>Weight</th>\n",
       "      <th>Height</th>\n",
       "      <th>BSA</th>\n",
       "      <th>BMI</th>\n",
       "      <th>Smoker</th>\n",
       "      <th>SBP</th>\n",
       "      <th>DBP</th>\n",
       "      <th>IMT MAX</th>\n",
       "      <th>LVMi</th>\n",
       "      <th>EF</th>\n",
       "      <th>Vascular event</th>\n",
       "    </tr>\n",
       "  </thead>\n",
       "  <tbody>\n",
       "    <tr>\n",
       "      <th>0</th>\n",
       "      <td>1911</td>\n",
       "      <td>M</td>\n",
       "      <td>56</td>\n",
       "      <td>105</td>\n",
       "      <td>180</td>\n",
       "      <td>2.29</td>\n",
       "      <td>32.41</td>\n",
       "      <td>yes</td>\n",
       "      <td>140.0</td>\n",
       "      <td>80.0</td>\n",
       "      <td>4.0</td>\n",
       "      <td>123.0</td>\n",
       "      <td>66.0</td>\n",
       "      <td>none</td>\n",
       "    </tr>\n",
       "    <tr>\n",
       "      <th>2</th>\n",
       "      <td>2019</td>\n",
       "      <td>F</td>\n",
       "      <td>80</td>\n",
       "      <td>80</td>\n",
       "      <td>165</td>\n",
       "      <td>1.91</td>\n",
       "      <td>29.38</td>\n",
       "      <td>no</td>\n",
       "      <td>177.0</td>\n",
       "      <td>75.0</td>\n",
       "      <td>2.5</td>\n",
       "      <td>164.0</td>\n",
       "      <td>56.0</td>\n",
       "      <td>none</td>\n",
       "    </tr>\n",
       "    <tr>\n",
       "      <th>3</th>\n",
       "      <td>2020</td>\n",
       "      <td>M</td>\n",
       "      <td>77</td>\n",
       "      <td>88</td>\n",
       "      <td>178</td>\n",
       "      <td>2.09</td>\n",
       "      <td>27.77</td>\n",
       "      <td>no</td>\n",
       "      <td>140.0</td>\n",
       "      <td>85.0</td>\n",
       "      <td>2.7</td>\n",
       "      <td>115.0</td>\n",
       "      <td>67.0</td>\n",
       "      <td>none</td>\n",
       "    </tr>\n",
       "    <tr>\n",
       "      <th>4</th>\n",
       "      <td>2025</td>\n",
       "      <td>F</td>\n",
       "      <td>66</td>\n",
       "      <td>80</td>\n",
       "      <td>174</td>\n",
       "      <td>1.97</td>\n",
       "      <td>26.42</td>\n",
       "      <td>no</td>\n",
       "      <td>110.0</td>\n",
       "      <td>65.0</td>\n",
       "      <td>1.5</td>\n",
       "      <td>98.0</td>\n",
       "      <td>66.0</td>\n",
       "      <td>none</td>\n",
       "    </tr>\n",
       "    <tr>\n",
       "      <th>5</th>\n",
       "      <td>2031</td>\n",
       "      <td>M</td>\n",
       "      <td>84</td>\n",
       "      <td>72</td>\n",
       "      <td>170</td>\n",
       "      <td>1.84</td>\n",
       "      <td>24.91</td>\n",
       "      <td>no</td>\n",
       "      <td>120.0</td>\n",
       "      <td>70.0</td>\n",
       "      <td>2.6</td>\n",
       "      <td>147.0</td>\n",
       "      <td>51.0</td>\n",
       "      <td>none</td>\n",
       "    </tr>\n",
       "  </tbody>\n",
       "</table>\n",
       "</div>"
      ],
      "text/plain": [
       "   Record Gender  Age  Weight  Height   BSA    BMI Smoker    SBP   DBP  \\\n",
       "0    1911      M   56     105     180  2.29  32.41    yes  140.0  80.0   \n",
       "2    2019      F   80      80     165  1.91  29.38     no  177.0  75.0   \n",
       "3    2020      M   77      88     178  2.09  27.77     no  140.0  85.0   \n",
       "4    2025      F   66      80     174  1.97  26.42     no  110.0  65.0   \n",
       "5    2031      M   84      72     170  1.84  24.91     no  120.0  70.0   \n",
       "\n",
       "   IMT MAX   LVMi    EF Vascular event  \n",
       "0      4.0  123.0  66.0           none  \n",
       "2      2.5  164.0  56.0           none  \n",
       "3      2.7  115.0  67.0           none  \n",
       "4      1.5   98.0  66.0           none  \n",
       "5      2.6  147.0  51.0           none  "
      ]
     },
     "execution_count": 29,
     "metadata": {},
     "output_type": "execute_result"
    }
   ],
   "source": [
    "df.head()"
   ]
  },
  {
   "cell_type": "code",
   "execution_count": 34,
   "metadata": {},
   "outputs": [
    {
     "name": "stderr",
     "output_type": "stream",
     "text": [
      "/home/elukbog/Projects/MEng-Project/.venv/lib/python3.10/site-packages/sdv/single_table/base.py:119: FutureWarning: The 'SingleTableMetadata' is deprecated. Please use the new 'Metadata' class for synthesizers.\n",
      "  warnings.warn(DEPRECATION_MSG, FutureWarning)\n",
      "/home/elukbog/Projects/MEng-Project/.venv/lib/python3.10/site-packages/sdv/single_table/base.py:104: UserWarning: We strongly recommend saving the metadata using 'save_to_json' for replicability in future SDV versions.\n",
      "  warnings.warn(\n",
      "Loss: -17.713: 100%|██████████| 3000/3000 [00:56<00:00, 52.87it/s]\n"
     ]
    }
   ],
   "source": [
    "metadata = SingleTableMetadata()\n",
    "metadata.detect_from_dataframe(augmented_data)\n",
    "model = TVAESynthesizer(metadata=metadata, epochs=3000, cuda=True, verbose=True)\n",
    "model.fit(augmented_data)\n",
    "model.save(\"TVAE_model.pkl\")\n"
   ]
  },
  {
   "cell_type": "code",
   "execution_count": 52,
   "metadata": {},
   "outputs": [],
   "source": [
    "tvae_crf_samples = model.sample(30000)"
   ]
  },
  {
   "cell_type": "code",
   "execution_count": 59,
   "metadata": {},
   "outputs": [
    {
     "name": "stdout",
     "output_type": "stream",
     "text": [
      "Train CRF tensor shape: torch.Size([22500, 7])\n",
      "Validation CRF tensor shape: torch.Size([3750, 7])\n",
      "Test CRF tensor shape: torch.Size([3750, 7])\n"
     ]
    }
   ],
   "source": [
    "labels = tvae_crf_samples['Vascular event']\n",
    "indices = np.arange(len(tvae_crf_samples))\n",
    "train_indices, temp_indices = train_test_split(indices, test_size=0.25, random_state=42)\n",
    "val_indices, test_indices = train_test_split(temp_indices, test_size=0.5, random_state=42)\n",
    "train_crf_df = tvae_crf_samples.iloc[train_indices].copy()\n",
    "val_crf_df   = tvae_crf_samples.iloc[val_indices].copy()\n",
    "test_crf_df  = tvae_crf_samples.iloc[test_indices].copy()\n",
    "train_labels = labels.iloc[train_indices].copy()\n",
    "val_labels   = labels.iloc[val_indices].copy()\n",
    "test_labels  = labels.iloc[test_indices].copy()\n",
    "train_crf_df = train_crf_df.drop(columns=['Vascular event'])\n",
    "val_crf_df   = val_crf_df.drop(columns=['Vascular event'])\n",
    "test_crf_df  = test_crf_df.drop(columns=['Vascular event'])\n",
    "train_crf_np = train_crf_df.to_numpy()\n",
    "val_crf_np   = val_crf_df.to_numpy()\n",
    "test_crf_np  = test_crf_df.to_numpy()\n",
    "train_crf_tensor = torch.tensor(train_crf_np, dtype=torch.float32)\n",
    "val_crf_tensor   = torch.tensor(val_crf_np, dtype=torch.float32)\n",
    "test_crf_tensor  = torch.tensor(test_crf_np, dtype=torch.float32)\n",
    "\n",
    "print(\"Train CRF tensor shape:\", train_crf_tensor.shape)\n",
    "print(\"Validation CRF tensor shape:\", val_crf_tensor.shape)\n",
    "print(\"Test CRF tensor shape:\", test_crf_tensor.shape)"
   ]
  },
  {
   "cell_type": "code",
   "execution_count": 60,
   "metadata": {},
   "outputs": [
    {
     "name": "stdout",
     "output_type": "stream",
     "text": [
      "Train labels tensor shape: torch.Size([22500])\n",
      "Validation labels tensor shape: torch.Size([3750])\n",
      "Test labels tensor shape: torch.Size([3750])\n"
     ]
    }
   ],
   "source": [
    "train_labels = train_labels.str.lower().map(\n",
    "        {'none': 0, 'myocardial infarction': 1, 'stroke': 2, 'syncope': 3})\n",
    "test_labels = test_labels.str.lower().map(\n",
    "        {'none': 0, 'myocardial infarction': 1, 'stroke': 2, 'syncope': 3})\n",
    "val_labels = val_labels.str.lower().map(\n",
    "        {'none': 0, 'myocardial infarction': 1, 'stroke': 2, 'syncope': 3})\n",
    "train_labels_tensor = torch.tensor(train_labels.values, dtype=torch.long)\n",
    "test_labels_tensor = torch.tensor(test_labels.values, dtype=torch.long)\n",
    "val_labels_tensor = torch.tensor(val_labels.values, dtype=torch.long)\n",
    "print(\"Train labels tensor shape:\", train_labels_tensor.shape)\n",
    "print(\"Validation labels tensor shape:\", val_labels_tensor.shape)\n",
    "print(\"Test labels tensor shape:\", test_labels_tensor.shape)"
   ]
  },
  {
   "cell_type": "code",
   "execution_count": 63,
   "metadata": {},
   "outputs": [],
   "source": [
    "class Generator(nn.Module):\n",
    "    '''\n",
    "    Generator model for the WGAN-GP-DTW model. \\\\\n",
    "    Consists of a twin stack of bidirectional LSTMs with 75 hidden units each \\\\\n",
    "    and 5 \n",
    "    '''\n",
    "\n",
    "    def __init__(self, ecg_length=640, n_leads=3, latent_dim=50, condition_dim=1):\n",
    "        super(Generator, self).__init__()\n",
    "        self.ecg_length = ecg_length\n",
    "        self.latent_dim = latent_dim\n",
    "        self.n_leads = n_leads\n",
    "        self.condition_dim = condition_dim\n",
    "        self.fc = nn.Linear(latent_dim + condition_dim, ecg_length * 32)\n",
    "        self.cnn1 = nn.Sequential(\n",
    "            nn.Conv1d(in_channels=32, out_channels=64,\n",
    "                      kernel_size=7, padding=3),\n",
    "            nn.ReLU(),\n",
    "            nn.Conv1d(in_channels=64, out_channels=128,\n",
    "                      kernel_size=7, padding=3),\n",
    "            nn.ReLU()\n",
    "        )\n",
    "        self.lstm1 = nn.LSTM(input_size=128, hidden_size=128,\n",
    "                             num_layers=1, batch_first=True, bidirectional=True)\n",
    "        self.lstm2 = nn.LSTM(input_size=256, hidden_size=128,\n",
    "                             num_layers=1, batch_first=True, bidirectional=True)\n",
    "        self.layer_norm = nn.LayerNorm(256)\n",
    "        self.cnn2 = nn.Sequential(\n",
    "            nn.Conv1d(in_channels=256, out_channels=192,\n",
    "                      kernel_size=25, padding=12, stride=1),\n",
    "            nn.LeakyReLU(0.2),\n",
    "            nn.InstanceNorm1d(192, affine=True),\n",
    "            nn.Conv1d(in_channels=192, out_channels=128,\n",
    "                      kernel_size=17, padding=(17-1)//2, stride=1),\n",
    "            nn.LeakyReLU(0.2),\n",
    "            nn.InstanceNorm1d(128, affine=True),\n",
    "            nn.Conv1d(in_channels=128, out_channels=64,\n",
    "                      kernel_size=17, padding=(17-1)//2, stride=1),\n",
    "            nn.LeakyReLU(0.2),\n",
    "            nn.InstanceNorm1d(64, affine=True),\n",
    "            nn.Conv1d(in_channels=64, out_channels=32,\n",
    "                      kernel_size=17, padding=(17-1)//2, stride=1),\n",
    "            nn.LeakyReLU(0.2),\n",
    "            nn.InstanceNorm1d(32, affine=True),\n",
    "            nn.Conv1d(in_channels=32, out_channels=n_leads,\n",
    "                      kernel_size=17, padding=(17-1)//2, stride=1),\n",
    "            nn.Tanh()\n",
    "        )\n",
    "        self.condition_embedding = nn.Embedding(4, self.condition_dim)\n",
    "\n",
    "    def forward(self, noise, condition):\n",
    "        cond_emb = self.condition_embedding(condition.squeeze(1))\n",
    "        combined = torch.cat((noise, cond_emb), dim=1)\n",
    "        x = self.fc(combined)\n",
    "        x = x.view(-1, 32, self.ecg_length)\n",
    "        x = self.cnn1(x)\n",
    "        x = x.permute(0, 2, 1)\n",
    "        x, _ = self.lstm1(x)\n",
    "        x = self.layer_norm(x)\n",
    "        x, _ = self.lstm2(x)\n",
    "        x = self.layer_norm(x)\n",
    "        x = x.permute(0, 2, 1)  # Convert back to (batch, channels, time)\n",
    "        x = self.cnn2(x)\n",
    "        x = x.permute(0, 2, 1)  # Convert back to (batch, time, leads)\n",
    "        return x"
   ]
  },
  {
   "cell_type": "code",
   "execution_count": 70,
   "metadata": {},
   "outputs": [],
   "source": [
    "generator = Generator(ecg_length=640,n_leads=3,latent_dim=50)\n",
    "CGAN_model = torch.load(\"gan_scripts/gan/CWGAN_models/cwgan_5/CWGAN.pth\", map_location=device, weights_only=False)\n",
    "generator.load_state_dict(CGAN_model['generator_state_dict'])\n",
    "def generate_ecgs_for_crf(label_tensor, generator, noise_dim, batch_size, device):\n",
    "    generator.to(device)\n",
    "    generator.eval()\n",
    "    num_samples = label_tensor.shape[0]\n",
    "    generated_signals = []\n",
    "    with torch.no_grad():\n",
    "        for i in range(0, num_samples, batch_size):\n",
    "            batch_conditions = label_tensor[i:i + batch_size].to(device)\n",
    "            current_batch_size = batch_conditions.shape[0]\n",
    "            noise = torch.randn(current_batch_size, noise_dim, device=device)\n",
    "            batch_ecgs = generator(noise, batch_conditions)\n",
    "            generated_signals.append(batch_ecgs.cpu())\n",
    "\n",
    "    return torch.cat(generated_signals, dim=0)"
   ]
  },
  {
   "cell_type": "code",
   "execution_count": 72,
   "metadata": {},
   "outputs": [
    {
     "name": "stdout",
     "output_type": "stream",
     "text": [
      "torch.Size([22500, 640, 3])\n",
      "torch.Size([3750, 640, 3])\n",
      "torch.Size([3750, 640, 3])\n"
     ]
    }
   ],
   "source": [
    "train_ecg = generate_ecgs_for_crf(train_labels_tensor.unsqueeze(1), generator, 50, batch_size, device)\n",
    "val_ecg   = generate_ecgs_for_crf(val_labels_tensor.unsqueeze(1), generator, 50, batch_size, device)\n",
    "test_ecg  = generate_ecgs_for_crf(test_labels_tensor.unsqueeze(1), generator, 50, batch_size, device)\n",
    "print(train_ecg.shape)\n",
    "print(val_ecg.shape)\n",
    "print(test_ecg.shape)"
   ]
  },
  {
   "cell_type": "code",
   "execution_count": 75,
   "metadata": {},
   "outputs": [],
   "source": [
    "train_dataset = TensorDataset(train_ecg, train_crf_tensor, train_labels_tensor)\n",
    "valid_dataset = TensorDataset(val_ecg, val_crf_tensor, val_labels_tensor)\n",
    "test_dataset = TensorDataset(test_ecg, test_crf_tensor, test_labels_tensor)"
   ]
  }
 ],
 "metadata": {
  "kernelspec": {
   "display_name": ".venv",
   "language": "python",
   "name": "python3"
  },
  "language_info": {
   "codemirror_mode": {
    "name": "ipython",
    "version": 3
   },
   "file_extension": ".py",
   "mimetype": "text/x-python",
   "name": "python",
   "nbconvert_exporter": "python",
   "pygments_lexer": "ipython3",
   "version": "3.10.12"
  }
 },
 "nbformat": 4,
 "nbformat_minor": 2
}
