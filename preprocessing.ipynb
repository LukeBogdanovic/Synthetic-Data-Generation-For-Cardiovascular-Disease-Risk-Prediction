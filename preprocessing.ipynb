{
 "cells": [
  {
   "cell_type": "markdown",
   "metadata": {},
   "source": [
    "# Pre-Processing Pipelines"
   ]
  },
  {
   "cell_type": "markdown",
   "metadata": {},
   "source": [
    "## Clinical Risk Factor Pre-Processing"
   ]
  },
  {
   "cell_type": "markdown",
   "metadata": {},
   "source": [
    "BSA Calculation is $\\sqrt{Weight (kg) * Height (cm)}\\over 3600$ : https://www.registerednursern.com/body-surface-area-calculations-nursing-review/\n",
    "\n",
    "BMI Calculation is $Weight (kg) \\over Height^{2} (m)$ : https://www.registerednursern.com/bmi-calculation-formula-explained/"
   ]
  },
  {
   "cell_type": "code",
   "execution_count": 67,
   "metadata": {},
   "outputs": [],
   "source": [
    "import pandas as pd\n",
    "import numpy as np\n",
    "from sklearn.model_selection import train_test_split\n",
    "from sklearn.preprocessing import StandardScaler\n",
    "from sklearn.impute import SimpleImputer\n",
    "\n",
    "crf_path = \"CRFs.csv\""
   ]
  },
  {
   "cell_type": "code",
   "execution_count": 68,
   "metadata": {},
   "outputs": [
    {
     "data": {
      "text/html": [
       "<div>\n",
       "<style scoped>\n",
       "    .dataframe tbody tr th:only-of-type {\n",
       "        vertical-align: middle;\n",
       "    }\n",
       "\n",
       "    .dataframe tbody tr th {\n",
       "        vertical-align: top;\n",
       "    }\n",
       "\n",
       "    .dataframe thead th {\n",
       "        text-align: right;\n",
       "    }\n",
       "</style>\n",
       "<table border=\"1\" class=\"dataframe\">\n",
       "  <thead>\n",
       "    <tr style=\"text-align: right;\">\n",
       "      <th></th>\n",
       "      <th>Record</th>\n",
       "      <th>Gender</th>\n",
       "      <th>Age</th>\n",
       "      <th>Weight</th>\n",
       "      <th>Height</th>\n",
       "      <th>BSA</th>\n",
       "      <th>BMI</th>\n",
       "      <th>Smoker</th>\n",
       "      <th>SBP</th>\n",
       "      <th>DBP</th>\n",
       "      <th>IMT MAX</th>\n",
       "      <th>LVMi</th>\n",
       "      <th>EF</th>\n",
       "      <th>Vascular event</th>\n",
       "    </tr>\n",
       "  </thead>\n",
       "  <tbody>\n",
       "    <tr>\n",
       "      <th>0</th>\n",
       "      <td>1911</td>\n",
       "      <td>M</td>\n",
       "      <td>56</td>\n",
       "      <td>105</td>\n",
       "      <td>180</td>\n",
       "      <td>2.29</td>\n",
       "      <td>32.41</td>\n",
       "      <td>yes</td>\n",
       "      <td>140.0</td>\n",
       "      <td>80.0</td>\n",
       "      <td>4.0</td>\n",
       "      <td>123.0</td>\n",
       "      <td>66.0</td>\n",
       "      <td>none</td>\n",
       "    </tr>\n",
       "    <tr>\n",
       "      <th>1</th>\n",
       "      <td>2012</td>\n",
       "      <td>M</td>\n",
       "      <td>72</td>\n",
       "      <td>83</td>\n",
       "      <td>169</td>\n",
       "      <td>1.97</td>\n",
       "      <td>29.06</td>\n",
       "      <td>no</td>\n",
       "      <td>130.0</td>\n",
       "      <td>75.0</td>\n",
       "      <td>NaN</td>\n",
       "      <td>121.0</td>\n",
       "      <td>69.0</td>\n",
       "      <td>none</td>\n",
       "    </tr>\n",
       "    <tr>\n",
       "      <th>2</th>\n",
       "      <td>2019</td>\n",
       "      <td>F</td>\n",
       "      <td>80</td>\n",
       "      <td>80</td>\n",
       "      <td>165</td>\n",
       "      <td>1.91</td>\n",
       "      <td>29.38</td>\n",
       "      <td>no</td>\n",
       "      <td>177.0</td>\n",
       "      <td>75.0</td>\n",
       "      <td>2.5</td>\n",
       "      <td>164.0</td>\n",
       "      <td>56.0</td>\n",
       "      <td>none</td>\n",
       "    </tr>\n",
       "    <tr>\n",
       "      <th>3</th>\n",
       "      <td>2020</td>\n",
       "      <td>M</td>\n",
       "      <td>77</td>\n",
       "      <td>88</td>\n",
       "      <td>178</td>\n",
       "      <td>2.09</td>\n",
       "      <td>27.77</td>\n",
       "      <td>no</td>\n",
       "      <td>140.0</td>\n",
       "      <td>85.0</td>\n",
       "      <td>2.7</td>\n",
       "      <td>115.0</td>\n",
       "      <td>67.0</td>\n",
       "      <td>none</td>\n",
       "    </tr>\n",
       "    <tr>\n",
       "      <th>4</th>\n",
       "      <td>2025</td>\n",
       "      <td>F</td>\n",
       "      <td>66</td>\n",
       "      <td>80</td>\n",
       "      <td>174</td>\n",
       "      <td>1.97</td>\n",
       "      <td>26.42</td>\n",
       "      <td>no</td>\n",
       "      <td>110.0</td>\n",
       "      <td>65.0</td>\n",
       "      <td>1.5</td>\n",
       "      <td>98.0</td>\n",
       "      <td>66.0</td>\n",
       "      <td>none</td>\n",
       "    </tr>\n",
       "  </tbody>\n",
       "</table>\n",
       "</div>"
      ],
      "text/plain": [
       "   Record Gender  Age  Weight  Height   BSA    BMI Smoker    SBP   DBP  \\\n",
       "0    1911      M   56     105     180  2.29  32.41    yes  140.0  80.0   \n",
       "1    2012      M   72      83     169  1.97  29.06     no  130.0  75.0   \n",
       "2    2019      F   80      80     165  1.91  29.38     no  177.0  75.0   \n",
       "3    2020      M   77      88     178  2.09  27.77     no  140.0  85.0   \n",
       "4    2025      F   66      80     174  1.97  26.42     no  110.0  65.0   \n",
       "\n",
       "   IMT MAX   LVMi    EF Vascular event  \n",
       "0      4.0  123.0  66.0           none  \n",
       "1      NaN  121.0  69.0           none  \n",
       "2      2.5  164.0  56.0           none  \n",
       "3      2.7  115.0  67.0           none  \n",
       "4      1.5   98.0  66.0           none  "
      ]
     },
     "execution_count": 68,
     "metadata": {},
     "output_type": "execute_result"
    }
   ],
   "source": [
    "df = pd.read_csv(crf_path)\n",
    "df.head()"
   ]
  },
  {
   "cell_type": "markdown",
   "metadata": {},
   "source": [
    "### All Values Dataframe Pre-Processing"
   ]
  },
  {
   "cell_type": "code",
   "execution_count": 69,
   "metadata": {},
   "outputs": [],
   "source": [
    "df_all_vals = df.copy()"
   ]
  },
  {
   "cell_type": "code",
   "execution_count": 70,
   "metadata": {},
   "outputs": [
    {
     "data": {
      "text/html": [
       "<div>\n",
       "<style scoped>\n",
       "    .dataframe tbody tr th:only-of-type {\n",
       "        vertical-align: middle;\n",
       "    }\n",
       "\n",
       "    .dataframe tbody tr th {\n",
       "        vertical-align: top;\n",
       "    }\n",
       "\n",
       "    .dataframe thead th {\n",
       "        text-align: right;\n",
       "    }\n",
       "</style>\n",
       "<table border=\"1\" class=\"dataframe\">\n",
       "  <thead>\n",
       "    <tr style=\"text-align: right;\">\n",
       "      <th></th>\n",
       "      <th>Record</th>\n",
       "      <th>Gender</th>\n",
       "      <th>Age</th>\n",
       "      <th>Weight</th>\n",
       "      <th>Height</th>\n",
       "      <th>BSA</th>\n",
       "      <th>BMI</th>\n",
       "      <th>Smoker</th>\n",
       "      <th>SBP</th>\n",
       "      <th>DBP</th>\n",
       "      <th>IMT MAX</th>\n",
       "      <th>LVMi</th>\n",
       "      <th>EF</th>\n",
       "      <th>Vascular event</th>\n",
       "    </tr>\n",
       "  </thead>\n",
       "  <tbody>\n",
       "    <tr>\n",
       "      <th>0</th>\n",
       "      <td>1911</td>\n",
       "      <td>M</td>\n",
       "      <td>56</td>\n",
       "      <td>105</td>\n",
       "      <td>180</td>\n",
       "      <td>2.29</td>\n",
       "      <td>32.41</td>\n",
       "      <td>yes</td>\n",
       "      <td>140.0</td>\n",
       "      <td>80.0</td>\n",
       "      <td>4.0</td>\n",
       "      <td>123.0</td>\n",
       "      <td>66.0</td>\n",
       "      <td>none</td>\n",
       "    </tr>\n",
       "    <tr>\n",
       "      <th>1</th>\n",
       "      <td>2012</td>\n",
       "      <td>M</td>\n",
       "      <td>72</td>\n",
       "      <td>83</td>\n",
       "      <td>169</td>\n",
       "      <td>1.97</td>\n",
       "      <td>29.06</td>\n",
       "      <td>no</td>\n",
       "      <td>130.0</td>\n",
       "      <td>75.0</td>\n",
       "      <td>NaN</td>\n",
       "      <td>121.0</td>\n",
       "      <td>69.0</td>\n",
       "      <td>none</td>\n",
       "    </tr>\n",
       "    <tr>\n",
       "      <th>2</th>\n",
       "      <td>2019</td>\n",
       "      <td>F</td>\n",
       "      <td>80</td>\n",
       "      <td>80</td>\n",
       "      <td>165</td>\n",
       "      <td>1.91</td>\n",
       "      <td>29.38</td>\n",
       "      <td>no</td>\n",
       "      <td>177.0</td>\n",
       "      <td>75.0</td>\n",
       "      <td>2.5</td>\n",
       "      <td>164.0</td>\n",
       "      <td>56.0</td>\n",
       "      <td>none</td>\n",
       "    </tr>\n",
       "    <tr>\n",
       "      <th>3</th>\n",
       "      <td>2020</td>\n",
       "      <td>M</td>\n",
       "      <td>77</td>\n",
       "      <td>88</td>\n",
       "      <td>178</td>\n",
       "      <td>2.09</td>\n",
       "      <td>27.77</td>\n",
       "      <td>no</td>\n",
       "      <td>140.0</td>\n",
       "      <td>85.0</td>\n",
       "      <td>2.7</td>\n",
       "      <td>115.0</td>\n",
       "      <td>67.0</td>\n",
       "      <td>none</td>\n",
       "    </tr>\n",
       "    <tr>\n",
       "      <th>4</th>\n",
       "      <td>2025</td>\n",
       "      <td>F</td>\n",
       "      <td>66</td>\n",
       "      <td>80</td>\n",
       "      <td>174</td>\n",
       "      <td>1.97</td>\n",
       "      <td>26.42</td>\n",
       "      <td>no</td>\n",
       "      <td>110.0</td>\n",
       "      <td>65.0</td>\n",
       "      <td>1.5</td>\n",
       "      <td>98.0</td>\n",
       "      <td>66.0</td>\n",
       "      <td>none</td>\n",
       "    </tr>\n",
       "  </tbody>\n",
       "</table>\n",
       "</div>"
      ],
      "text/plain": [
       "   Record Gender  Age  Weight  Height   BSA    BMI Smoker    SBP   DBP  \\\n",
       "0    1911      M   56     105     180  2.29  32.41    yes  140.0  80.0   \n",
       "1    2012      M   72      83     169  1.97  29.06     no  130.0  75.0   \n",
       "2    2019      F   80      80     165  1.91  29.38     no  177.0  75.0   \n",
       "3    2020      M   77      88     178  2.09  27.77     no  140.0  85.0   \n",
       "4    2025      F   66      80     174  1.97  26.42     no  110.0  65.0   \n",
       "\n",
       "   IMT MAX   LVMi    EF Vascular event  \n",
       "0      4.0  123.0  66.0           none  \n",
       "1      NaN  121.0  69.0           none  \n",
       "2      2.5  164.0  56.0           none  \n",
       "3      2.7  115.0  67.0           none  \n",
       "4      1.5   98.0  66.0           none  "
      ]
     },
     "execution_count": 70,
     "metadata": {},
     "output_type": "execute_result"
    }
   ],
   "source": [
    "df_all_vals.replace('n/a', np.nan, inplace=True)\n",
    "df_all_vals.head()"
   ]
  },
  {
   "cell_type": "code",
   "execution_count": 71,
   "metadata": {},
   "outputs": [],
   "source": [
    "num_imputer = SimpleImputer(strategy='mean')\n",
    "df_all_vals[['IMT MAX', 'LVMi', 'EF']] = num_imputer.fit_transform(df_all_vals[['IMT MAX', 'LVMi', 'EF']])"
   ]
  },
  {
   "cell_type": "markdown",
   "metadata": {},
   "source": [
    "### Dropped Values Dataframe Pre-Processing\n",
    "\n",
    "Focuses on using values besides IMT MAX, LVMi, and EF"
   ]
  },
  {
   "cell_type": "code",
   "execution_count": 72,
   "metadata": {},
   "outputs": [
    {
     "data": {
      "text/html": [
       "<div>\n",
       "<style scoped>\n",
       "    .dataframe tbody tr th:only-of-type {\n",
       "        vertical-align: middle;\n",
       "    }\n",
       "\n",
       "    .dataframe tbody tr th {\n",
       "        vertical-align: top;\n",
       "    }\n",
       "\n",
       "    .dataframe thead th {\n",
       "        text-align: right;\n",
       "    }\n",
       "</style>\n",
       "<table border=\"1\" class=\"dataframe\">\n",
       "  <thead>\n",
       "    <tr style=\"text-align: right;\">\n",
       "      <th></th>\n",
       "      <th>Record</th>\n",
       "      <th>Gender</th>\n",
       "      <th>Age</th>\n",
       "      <th>Weight</th>\n",
       "      <th>Height</th>\n",
       "      <th>BSA</th>\n",
       "      <th>BMI</th>\n",
       "      <th>Smoker</th>\n",
       "      <th>SBP</th>\n",
       "      <th>DBP</th>\n",
       "      <th>Vascular event</th>\n",
       "    </tr>\n",
       "  </thead>\n",
       "  <tbody>\n",
       "    <tr>\n",
       "      <th>0</th>\n",
       "      <td>1911</td>\n",
       "      <td>M</td>\n",
       "      <td>56</td>\n",
       "      <td>105</td>\n",
       "      <td>180</td>\n",
       "      <td>2.29</td>\n",
       "      <td>32.41</td>\n",
       "      <td>yes</td>\n",
       "      <td>140.0</td>\n",
       "      <td>80.0</td>\n",
       "      <td>none</td>\n",
       "    </tr>\n",
       "    <tr>\n",
       "      <th>1</th>\n",
       "      <td>2012</td>\n",
       "      <td>M</td>\n",
       "      <td>72</td>\n",
       "      <td>83</td>\n",
       "      <td>169</td>\n",
       "      <td>1.97</td>\n",
       "      <td>29.06</td>\n",
       "      <td>no</td>\n",
       "      <td>130.0</td>\n",
       "      <td>75.0</td>\n",
       "      <td>none</td>\n",
       "    </tr>\n",
       "    <tr>\n",
       "      <th>2</th>\n",
       "      <td>2019</td>\n",
       "      <td>F</td>\n",
       "      <td>80</td>\n",
       "      <td>80</td>\n",
       "      <td>165</td>\n",
       "      <td>1.91</td>\n",
       "      <td>29.38</td>\n",
       "      <td>no</td>\n",
       "      <td>177.0</td>\n",
       "      <td>75.0</td>\n",
       "      <td>none</td>\n",
       "    </tr>\n",
       "    <tr>\n",
       "      <th>3</th>\n",
       "      <td>2020</td>\n",
       "      <td>M</td>\n",
       "      <td>77</td>\n",
       "      <td>88</td>\n",
       "      <td>178</td>\n",
       "      <td>2.09</td>\n",
       "      <td>27.77</td>\n",
       "      <td>no</td>\n",
       "      <td>140.0</td>\n",
       "      <td>85.0</td>\n",
       "      <td>none</td>\n",
       "    </tr>\n",
       "    <tr>\n",
       "      <th>4</th>\n",
       "      <td>2025</td>\n",
       "      <td>F</td>\n",
       "      <td>66</td>\n",
       "      <td>80</td>\n",
       "      <td>174</td>\n",
       "      <td>1.97</td>\n",
       "      <td>26.42</td>\n",
       "      <td>no</td>\n",
       "      <td>110.0</td>\n",
       "      <td>65.0</td>\n",
       "      <td>none</td>\n",
       "    </tr>\n",
       "  </tbody>\n",
       "</table>\n",
       "</div>"
      ],
      "text/plain": [
       "   Record Gender  Age  Weight  Height   BSA    BMI Smoker    SBP   DBP  \\\n",
       "0    1911      M   56     105     180  2.29  32.41    yes  140.0  80.0   \n",
       "1    2012      M   72      83     169  1.97  29.06     no  130.0  75.0   \n",
       "2    2019      F   80      80     165  1.91  29.38     no  177.0  75.0   \n",
       "3    2020      M   77      88     178  2.09  27.77     no  140.0  85.0   \n",
       "4    2025      F   66      80     174  1.97  26.42     no  110.0  65.0   \n",
       "\n",
       "  Vascular event  \n",
       "0           none  \n",
       "1           none  \n",
       "2           none  \n",
       "3           none  \n",
       "4           none  "
      ]
     },
     "execution_count": 72,
     "metadata": {},
     "output_type": "execute_result"
    }
   ],
   "source": [
    "df = df.drop(columns=['IMT MAX','LVMi','EF'])\n",
    "df.head()"
   ]
  },
  {
   "cell_type": "markdown",
   "metadata": {},
   "source": [
    "For all values dataframe: Standardize the n/a value for operability with Python/Numpy"
   ]
  },
  {
   "cell_type": "markdown",
   "metadata": {},
   "source": [
    "Gender, Smoker and Vascular event values need to be encoded"
   ]
  },
  {
   "cell_type": "code",
   "execution_count": 73,
   "metadata": {},
   "outputs": [
    {
     "data": {
      "text/html": [
       "<div>\n",
       "<style scoped>\n",
       "    .dataframe tbody tr th:only-of-type {\n",
       "        vertical-align: middle;\n",
       "    }\n",
       "\n",
       "    .dataframe tbody tr th {\n",
       "        vertical-align: top;\n",
       "    }\n",
       "\n",
       "    .dataframe thead th {\n",
       "        text-align: right;\n",
       "    }\n",
       "</style>\n",
       "<table border=\"1\" class=\"dataframe\">\n",
       "  <thead>\n",
       "    <tr style=\"text-align: right;\">\n",
       "      <th></th>\n",
       "      <th>Record</th>\n",
       "      <th>Gender</th>\n",
       "      <th>Age</th>\n",
       "      <th>Weight</th>\n",
       "      <th>Height</th>\n",
       "      <th>BSA</th>\n",
       "      <th>BMI</th>\n",
       "      <th>Smoker</th>\n",
       "      <th>SBP</th>\n",
       "      <th>DBP</th>\n",
       "      <th>Vascular event</th>\n",
       "    </tr>\n",
       "  </thead>\n",
       "  <tbody>\n",
       "    <tr>\n",
       "      <th>0</th>\n",
       "      <td>1911</td>\n",
       "      <td>0</td>\n",
       "      <td>56</td>\n",
       "      <td>105</td>\n",
       "      <td>180</td>\n",
       "      <td>2.29</td>\n",
       "      <td>32.41</td>\n",
       "      <td>1</td>\n",
       "      <td>140.0</td>\n",
       "      <td>80.0</td>\n",
       "      <td>none</td>\n",
       "    </tr>\n",
       "    <tr>\n",
       "      <th>1</th>\n",
       "      <td>2012</td>\n",
       "      <td>0</td>\n",
       "      <td>72</td>\n",
       "      <td>83</td>\n",
       "      <td>169</td>\n",
       "      <td>1.97</td>\n",
       "      <td>29.06</td>\n",
       "      <td>0</td>\n",
       "      <td>130.0</td>\n",
       "      <td>75.0</td>\n",
       "      <td>none</td>\n",
       "    </tr>\n",
       "    <tr>\n",
       "      <th>2</th>\n",
       "      <td>2019</td>\n",
       "      <td>1</td>\n",
       "      <td>80</td>\n",
       "      <td>80</td>\n",
       "      <td>165</td>\n",
       "      <td>1.91</td>\n",
       "      <td>29.38</td>\n",
       "      <td>0</td>\n",
       "      <td>177.0</td>\n",
       "      <td>75.0</td>\n",
       "      <td>none</td>\n",
       "    </tr>\n",
       "    <tr>\n",
       "      <th>3</th>\n",
       "      <td>2020</td>\n",
       "      <td>0</td>\n",
       "      <td>77</td>\n",
       "      <td>88</td>\n",
       "      <td>178</td>\n",
       "      <td>2.09</td>\n",
       "      <td>27.77</td>\n",
       "      <td>0</td>\n",
       "      <td>140.0</td>\n",
       "      <td>85.0</td>\n",
       "      <td>none</td>\n",
       "    </tr>\n",
       "    <tr>\n",
       "      <th>4</th>\n",
       "      <td>2025</td>\n",
       "      <td>1</td>\n",
       "      <td>66</td>\n",
       "      <td>80</td>\n",
       "      <td>174</td>\n",
       "      <td>1.97</td>\n",
       "      <td>26.42</td>\n",
       "      <td>0</td>\n",
       "      <td>110.0</td>\n",
       "      <td>65.0</td>\n",
       "      <td>none</td>\n",
       "    </tr>\n",
       "  </tbody>\n",
       "</table>\n",
       "</div>"
      ],
      "text/plain": [
       "   Record  Gender  Age  Weight  Height   BSA    BMI  Smoker    SBP   DBP  \\\n",
       "0    1911       0   56     105     180  2.29  32.41       1  140.0  80.0   \n",
       "1    2012       0   72      83     169  1.97  29.06       0  130.0  75.0   \n",
       "2    2019       1   80      80     165  1.91  29.38       0  177.0  75.0   \n",
       "3    2020       0   77      88     178  2.09  27.77       0  140.0  85.0   \n",
       "4    2025       1   66      80     174  1.97  26.42       0  110.0  65.0   \n",
       "\n",
       "  Vascular event  \n",
       "0           none  \n",
       "1           none  \n",
       "2           none  \n",
       "3           none  \n",
       "4           none  "
      ]
     },
     "execution_count": 73,
     "metadata": {},
     "output_type": "execute_result"
    }
   ],
   "source": [
    "df['Gender'] = df['Gender'].str.upper().map({'M':0, 'F': 1})\n",
    "df['Smoker'] = df['Smoker'].str.upper().map({'NO': 0, 'YES': 1})\n",
    "df['Vascular event'] = df['Vascular event'].astype('category')\n",
    "df.head()"
   ]
  },
  {
   "cell_type": "code",
   "execution_count": 74,
   "metadata": {},
   "outputs": [],
   "source": [
    "num_imputer = SimpleImputer(strategy='mean')\n",
    "df[['SBP','DBP']] = num_imputer.fit_transform(df[['SBP','DBP']])"
   ]
  },
  {
   "cell_type": "markdown",
   "metadata": {},
   "source": [
    "#### Feature Engineering\n",
    "\n",
    "Creating two new features - Pulse Pressure and BMI Category. \n",
    "\n",
    "Pulse pressure represents the difference between the systolic and diastolic blood pressure - Can be an indicator of health issues prior to symptom development and show risk for certain diseases or conditions. \n",
    "\n",
    "BMI category represents the BMI categories as set out by the centre for disease control (CDC) in the US. Categories are based on bins of numbers (0->18.5, >18.5->25, >25->30, 30->Infinity) representing different category classifications (Underweight, Normal, Overweight, Obese) with the final category having different classes based on the values above the minimum threshold."
   ]
  },
  {
   "cell_type": "code",
   "execution_count": 75,
   "metadata": {},
   "outputs": [],
   "source": [
    "df['Pulse Pressure'] = df['SBP'] - df['DBP']\n",
    "df['BMI Category'] = pd.cut(df['BMI'], bins=[0, 18.5, 25, 30, np.inf], labels=['Underweight', 'Normal', 'Overweight', 'Obese'])"
   ]
  },
  {
   "cell_type": "markdown",
   "metadata": {},
   "source": [
    "Pulse Pressure: https://my.clevelandclinic.org/health/body/21629-pulse-pressure\n",
    "\n",
    "BMI Categories: https://www.cdc.gov/bmi/adult-calculator/bmi-categories.html"
   ]
  },
  {
   "cell_type": "markdown",
   "metadata": {},
   "source": [
    "#### Numerical Features Normalization\n",
    "\n",
    "Using Standard scaler here, could also try a min-max scaler."
   ]
  },
  {
   "cell_type": "code",
   "execution_count": 76,
   "metadata": {},
   "outputs": [],
   "source": [
    "scaler = StandardScaler()\n",
    "num_cols = ['Age', 'Weight', 'Height', 'SBP', 'DBP', 'Pulse Pressure', 'BSA', 'BMI']\n",
    "df[num_cols] = scaler.fit_transform(df[num_cols])"
   ]
  },
  {
   "cell_type": "markdown",
   "metadata": {},
   "source": [
    "#### Mapping and One-Hot encoding For BMI-Mapping"
   ]
  },
  {
   "cell_type": "code",
   "execution_count": 77,
   "metadata": {},
   "outputs": [],
   "source": [
    "bmi_mapping = {'Underweight': 0, 'Normal': 1, 'Overweight': 2, 'Obese': 3}\n",
    "df['BMI Category'] = df['BMI Category'].map(bmi_mapping)\n",
    "df = pd.get_dummies(df, columns=['BMI Category'], prefix='BMI')"
   ]
  },
  {
   "cell_type": "markdown",
   "metadata": {},
   "source": [
    "#### Train-Testing Datasets Splitting\n",
    "\n",
    "Splitting the target attribute and rest of features from each other.\n",
    "\n",
    "Splitting the dataset into training and testing sets with an 8:2 split. This could be altered after data synthesisation and dataset balancing"
   ]
  },
  {
   "cell_type": "code",
   "execution_count": 78,
   "metadata": {},
   "outputs": [],
   "source": [
    "X = df.drop(columns=['Record', 'Vascular event'])\n",
    "y = df['Vascular event']\n",
    "X_train, X_test, y_train, y_test = train_test_split(X, y, test_size=0.2, stratify=y)"
   ]
  },
  {
   "cell_type": "markdown",
   "metadata": {},
   "source": [
    "#### Feature Selection"
   ]
  },
  {
   "cell_type": "markdown",
   "metadata": {},
   "source": [
    "Feature importance has been calculated by dividing all values by the max value to show the most important values. All other importance values are a percent of the max value"
   ]
  },
  {
   "cell_type": "markdown",
   "metadata": {},
   "source": [
    "##### K-Best Feature Selection"
   ]
  },
  {
   "cell_type": "code",
   "execution_count": 79,
   "metadata": {},
   "outputs": [
    {
     "name": "stdout",
     "output_type": "stream",
     "text": [
      "Selected features: Index(['Age', 'SBP', 'DBP', 'Pulse Pressure', 'BMI_1', 'BMI_2', 'BMI_3'], dtype='object')\n"
     ]
    },
    {
     "name": "stderr",
     "output_type": "stream",
     "text": [
      "/home/elukbog/.local/lib/python3.10/site-packages/sklearn/feature_selection/_univariate_selection.py:112: UserWarning: Features [10] are constant.\n",
      "  warnings.warn(\"Features %s are constant.\" % constant_features_idx, UserWarning)\n",
      "/home/elukbog/.local/lib/python3.10/site-packages/sklearn/feature_selection/_univariate_selection.py:113: RuntimeWarning: invalid value encountered in divide\n",
      "  f = msb / msw\n"
     ]
    },
    {
     "data": {
      "text/html": [
       "<div>\n",
       "<style scoped>\n",
       "    .dataframe tbody tr th:only-of-type {\n",
       "        vertical-align: middle;\n",
       "    }\n",
       "\n",
       "    .dataframe tbody tr th {\n",
       "        vertical-align: top;\n",
       "    }\n",
       "\n",
       "    .dataframe thead th {\n",
       "        text-align: right;\n",
       "    }\n",
       "</style>\n",
       "<table border=\"1\" class=\"dataframe\">\n",
       "  <thead>\n",
       "    <tr style=\"text-align: right;\">\n",
       "      <th></th>\n",
       "      <th>Feature</th>\n",
       "      <th>Importance</th>\n",
       "    </tr>\n",
       "  </thead>\n",
       "  <tbody>\n",
       "    <tr>\n",
       "      <th>3</th>\n",
       "      <td>Pulse Pressure</td>\n",
       "      <td>1.000000</td>\n",
       "    </tr>\n",
       "    <tr>\n",
       "      <th>0</th>\n",
       "      <td>Age</td>\n",
       "      <td>0.860857</td>\n",
       "    </tr>\n",
       "    <tr>\n",
       "      <th>2</th>\n",
       "      <td>DBP</td>\n",
       "      <td>0.728181</td>\n",
       "    </tr>\n",
       "    <tr>\n",
       "      <th>5</th>\n",
       "      <td>BMI_2</td>\n",
       "      <td>0.662080</td>\n",
       "    </tr>\n",
       "    <tr>\n",
       "      <th>4</th>\n",
       "      <td>BMI_1</td>\n",
       "      <td>0.446050</td>\n",
       "    </tr>\n",
       "  </tbody>\n",
       "</table>\n",
       "</div>"
      ],
      "text/plain": [
       "          Feature  Importance\n",
       "3  Pulse Pressure    1.000000\n",
       "0             Age    0.860857\n",
       "2             DBP    0.728181\n",
       "5           BMI_2    0.662080\n",
       "4           BMI_1    0.446050"
      ]
     },
     "execution_count": 79,
     "metadata": {},
     "output_type": "execute_result"
    }
   ],
   "source": [
    "from sklearn.feature_selection import SelectKBest, f_classif\n",
    "\n",
    "selector = SelectKBest(score_func=f_classif, k=7)\n",
    "X_train_selected = selector.fit_transform(X_train, y_train)\n",
    "X_test_selected = selector.transform(X_test)\n",
    "selected_features = X_train.columns[selector.get_support()]\n",
    "print(\"Selected features:\", selected_features)\n",
    "feature_importances = selector.scores_[selector.get_support()]\n",
    "feature_importances_df = pd.DataFrame({\n",
    "    'Feature': selected_features,\n",
    "    'Importance': feature_importances\n",
    "})\n",
    "feature_importances_df['Importance'] = feature_importances_df['Importance'] / feature_importances_df['Importance'].max()\n",
    "feature_importances_df = feature_importances_df.sort_values(by='Importance', ascending=False)\n",
    "feature_importances_df.head()"
   ]
  },
  {
   "cell_type": "markdown",
   "metadata": {},
   "source": [
    "##### Recursive Feature Elimination Feature Selection"
   ]
  },
  {
   "cell_type": "code",
   "execution_count": 87,
   "metadata": {},
   "outputs": [
    {
     "name": "stdout",
     "output_type": "stream",
     "text": [
      "Selected features using RFE: Index(['Age', 'Height', 'Smoker', 'DBP', 'Pulse Pressure', 'BMI_2', 'BMI_3'], dtype='object')\n"
     ]
    },
    {
     "data": {
      "text/html": [
       "<div>\n",
       "<style scoped>\n",
       "    .dataframe tbody tr th:only-of-type {\n",
       "        vertical-align: middle;\n",
       "    }\n",
       "\n",
       "    .dataframe tbody tr th {\n",
       "        vertical-align: top;\n",
       "    }\n",
       "\n",
       "    .dataframe thead th {\n",
       "        text-align: right;\n",
       "    }\n",
       "</style>\n",
       "<table border=\"1\" class=\"dataframe\">\n",
       "  <thead>\n",
       "    <tr style=\"text-align: right;\">\n",
       "      <th></th>\n",
       "      <th>Feature</th>\n",
       "      <th>Importance</th>\n",
       "    </tr>\n",
       "  </thead>\n",
       "  <tbody>\n",
       "    <tr>\n",
       "      <th>0</th>\n",
       "      <td>Age</td>\n",
       "      <td>1.000000</td>\n",
       "    </tr>\n",
       "    <tr>\n",
       "      <th>4</th>\n",
       "      <td>Pulse Pressure</td>\n",
       "      <td>0.800928</td>\n",
       "    </tr>\n",
       "    <tr>\n",
       "      <th>1</th>\n",
       "      <td>Height</td>\n",
       "      <td>0.751301</td>\n",
       "    </tr>\n",
       "    <tr>\n",
       "      <th>2</th>\n",
       "      <td>Smoker</td>\n",
       "      <td>0.618611</td>\n",
       "    </tr>\n",
       "    <tr>\n",
       "      <th>6</th>\n",
       "      <td>BMI_3</td>\n",
       "      <td>0.320839</td>\n",
       "    </tr>\n",
       "  </tbody>\n",
       "</table>\n",
       "</div>"
      ],
      "text/plain": [
       "          Feature  Importance\n",
       "0             Age    1.000000\n",
       "4  Pulse Pressure    0.800928\n",
       "1          Height    0.751301\n",
       "2          Smoker    0.618611\n",
       "6           BMI_3    0.320839"
      ]
     },
     "execution_count": 87,
     "metadata": {},
     "output_type": "execute_result"
    }
   ],
   "source": [
    "from sklearn.feature_selection import RFE\n",
    "from sklearn.linear_model import LogisticRegression\n",
    "\n",
    "model = LogisticRegression(max_iter=1000)\n",
    "rfe = RFE(estimator=model, n_features_to_select=7)\n",
    "X_train_rfe = rfe.fit_transform(X_train, y_train)\n",
    "X_test_rfe = rfe.transform(X_test)\n",
    "selected_features_rfe = X_train.columns[rfe.support_]\n",
    "print(\"Selected features using RFE:\", selected_features_rfe)\n",
    "model.fit(X_train_rfe, y_train)\n",
    "feature_importances_rfe = model.coef_[0]\n",
    "feature_importances_df_rfe = pd.DataFrame({\n",
    "    'Feature': selected_features_rfe,\n",
    "    'Importance': feature_importances_rfe\n",
    "})\n",
    "feature_importances_df_rfe['Importance'] = feature_importances_df_rfe['Importance'] / feature_importances_df_rfe['Importance'].max()\n",
    "feature_importances_df_rfe = feature_importances_df_rfe.sort_values(by='Importance', ascending=False)\n",
    "feature_importances_df_rfe.head()"
   ]
  },
  {
   "cell_type": "markdown",
   "metadata": {},
   "source": [
    "Some values in the RFE method are showing as negative values. Possibly need to review how the importance of features are measured in RFE."
   ]
  },
  {
   "cell_type": "markdown",
   "metadata": {},
   "source": [
    "##### Selection From Model Training Using Random Forest"
   ]
  },
  {
   "cell_type": "code",
   "execution_count": 81,
   "metadata": {},
   "outputs": [
    {
     "name": "stdout",
     "output_type": "stream",
     "text": [
      "Selected features using RandomForest: Index(['Age', 'Weight', 'Height', 'BSA', 'BMI', 'SBP', 'Pulse Pressure'], dtype='object')\n"
     ]
    },
    {
     "name": "stderr",
     "output_type": "stream",
     "text": [
      "/home/elukbog/.local/lib/python3.10/site-packages/sklearn/base.py:486: UserWarning: X has feature names, but SelectFromModel was fitted without feature names\n",
      "  warnings.warn(\n",
      "/home/elukbog/.local/lib/python3.10/site-packages/sklearn/base.py:486: UserWarning: X has feature names, but SelectFromModel was fitted without feature names\n",
      "  warnings.warn(\n"
     ]
    },
    {
     "data": {
      "text/html": [
       "<div>\n",
       "<style scoped>\n",
       "    .dataframe tbody tr th:only-of-type {\n",
       "        vertical-align: middle;\n",
       "    }\n",
       "\n",
       "    .dataframe tbody tr th {\n",
       "        vertical-align: top;\n",
       "    }\n",
       "\n",
       "    .dataframe thead th {\n",
       "        text-align: right;\n",
       "    }\n",
       "</style>\n",
       "<table border=\"1\" class=\"dataframe\">\n",
       "  <thead>\n",
       "    <tr style=\"text-align: right;\">\n",
       "      <th></th>\n",
       "      <th>Feature</th>\n",
       "      <th>Importance</th>\n",
       "    </tr>\n",
       "  </thead>\n",
       "  <tbody>\n",
       "    <tr>\n",
       "      <th>5</th>\n",
       "      <td>BMI</td>\n",
       "      <td>1.000000</td>\n",
       "    </tr>\n",
       "    <tr>\n",
       "      <th>2</th>\n",
       "      <td>Weight</td>\n",
       "      <td>0.952484</td>\n",
       "    </tr>\n",
       "    <tr>\n",
       "      <th>9</th>\n",
       "      <td>Pulse Pressure</td>\n",
       "      <td>0.810442</td>\n",
       "    </tr>\n",
       "    <tr>\n",
       "      <th>7</th>\n",
       "      <td>SBP</td>\n",
       "      <td>0.753643</td>\n",
       "    </tr>\n",
       "    <tr>\n",
       "      <th>1</th>\n",
       "      <td>Age</td>\n",
       "      <td>0.736065</td>\n",
       "    </tr>\n",
       "  </tbody>\n",
       "</table>\n",
       "</div>"
      ],
      "text/plain": [
       "          Feature  Importance\n",
       "5             BMI    1.000000\n",
       "2          Weight    0.952484\n",
       "9  Pulse Pressure    0.810442\n",
       "7             SBP    0.753643\n",
       "1             Age    0.736065"
      ]
     },
     "execution_count": 81,
     "metadata": {},
     "output_type": "execute_result"
    }
   ],
   "source": [
    "from sklearn.ensemble import RandomForestClassifier\n",
    "from sklearn.feature_selection import SelectFromModel\n",
    "import pandas as pd\n",
    "\n",
    "rf = RandomForestClassifier(n_estimators=100)\n",
    "rf.fit(X_train, y_train)\n",
    "model = SelectFromModel(rf, prefit=True)\n",
    "X_train_rf = model.transform(X_train)\n",
    "X_test_rf = model.transform(X_test)\n",
    "selected_features_rf = X_train.columns[model.get_support()]\n",
    "print(\"Selected features using RandomForest:\", selected_features_rf)\n",
    "feature_importances = rf.feature_importances_\n",
    "feature_importances_df = pd.DataFrame({\n",
    "    'Feature': X_train.columns,\n",
    "    'Importance': feature_importances\n",
    "})\n",
    "feature_importances_df['Importance'] = feature_importances_df['Importance'] / feature_importances_df['Importance'].max()\n",
    "feature_importances_df = feature_importances_df.sort_values(by='Importance', ascending=False)\n",
    "feature_importances_df.head()"
   ]
  },
  {
   "cell_type": "markdown",
   "metadata": {},
   "source": [
    "#### Model Testing\n",
    "\n",
    "Testing the pre-processed data with a standard ML SVM model"
   ]
  },
  {
   "cell_type": "code",
   "execution_count": 82,
   "metadata": {},
   "outputs": [
    {
     "name": "stdout",
     "output_type": "stream",
     "text": [
      "Accuracy: 0.8571428571428571\n",
      "Classification Report:\n",
      "                        precision    recall  f1-score   support\n",
      "\n",
      "myocardial infarction       0.00      0.00      0.00         2\n",
      "                 none       0.86      1.00      0.92        24\n",
      "               stroke       0.00      0.00      0.00         1\n",
      "              syncope       0.00      0.00      0.00         1\n",
      "\n",
      "             accuracy                           0.86        28\n",
      "            macro avg       0.21      0.25      0.23        28\n",
      "         weighted avg       0.73      0.86      0.79        28\n",
      "\n"
     ]
    },
    {
     "name": "stderr",
     "output_type": "stream",
     "text": [
      "/home/elukbog/.local/lib/python3.10/site-packages/sklearn/metrics/_classification.py:1531: UndefinedMetricWarning: Precision is ill-defined and being set to 0.0 in labels with no predicted samples. Use `zero_division` parameter to control this behavior.\n",
      "  _warn_prf(average, modifier, f\"{metric.capitalize()} is\", len(result))\n",
      "/home/elukbog/.local/lib/python3.10/site-packages/sklearn/metrics/_classification.py:1531: UndefinedMetricWarning: Precision is ill-defined and being set to 0.0 in labels with no predicted samples. Use `zero_division` parameter to control this behavior.\n",
      "  _warn_prf(average, modifier, f\"{metric.capitalize()} is\", len(result))\n",
      "/home/elukbog/.local/lib/python3.10/site-packages/sklearn/metrics/_classification.py:1531: UndefinedMetricWarning: Precision is ill-defined and being set to 0.0 in labels with no predicted samples. Use `zero_division` parameter to control this behavior.\n",
      "  _warn_prf(average, modifier, f\"{metric.capitalize()} is\", len(result))\n"
     ]
    }
   ],
   "source": [
    "from sklearn import svm\n",
    "from sklearn.metrics import classification_report, accuracy_score\n",
    "\n",
    "# Initialize the model\n",
    "model = svm.SVC(max_iter=1000)\n",
    "\n",
    "# Train the model\n",
    "model.fit(X_train, y_train)\n",
    "\n",
    "# Make predictions\n",
    "y_pred = model.predict(X_test)\n",
    "\n",
    "# Evaluate the model\n",
    "print(\"Accuracy:\", accuracy_score(y_test, y_pred))\n",
    "print(\"Classification Report:\\n\", classification_report(y_test, y_pred))"
   ]
  },
  {
   "cell_type": "markdown",
   "metadata": {},
   "source": [
    "Dataset needs to be balanced and data needs to be synthesized in order to get a good accuracy score"
   ]
  },
  {
   "cell_type": "markdown",
   "metadata": {},
   "source": [
    "## ECG Signal Pre-Processing"
   ]
  },
  {
   "cell_type": "markdown",
   "metadata": {},
   "source": [
    "WFDB Documentation: https://wfdb.readthedocs.io/en/latest/index.html"
   ]
  },
  {
   "cell_type": "code",
   "execution_count": 83,
   "metadata": {},
   "outputs": [],
   "source": [
    "import wfdb\n",
    "\n",
    "ecg_data_path = \"dataset\""
   ]
  }
 ],
 "metadata": {
  "kernelspec": {
   "display_name": "Python 3",
   "language": "python",
   "name": "python3"
  },
  "language_info": {
   "codemirror_mode": {
    "name": "ipython",
    "version": 3
   },
   "file_extension": ".py",
   "mimetype": "text/x-python",
   "name": "python",
   "nbconvert_exporter": "python",
   "pygments_lexer": "ipython3",
   "version": "3.10.12"
  }
 },
 "nbformat": 4,
 "nbformat_minor": 2
}
